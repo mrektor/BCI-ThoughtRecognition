{
 "cells": [
  {
   "cell_type": "markdown",
   "metadata": {},
   "source": [
    "## Import Libraries\n"
   ]
  },
  {
   "cell_type": "code",
   "execution_count": 11,
   "metadata": {
    "collapsed": false
   },
   "outputs": [],
   "source": [
    "import scipy.io as sio\n",
    "import matplotlib.pyplot as plt\n",
    "import numpy as np\n",
    "from sklearn import linear_model, neighbors, datasets\n",
    "from sklearn import svm\n",
    "import scipy.signal as signal\n",
    "import numpy as np\n",
    "from sklearn import svm\n",
    "from sklearn.feature_selection import SelectKBest\n",
    "from sklearn.feature_selection import f_classif\n",
    "from sklearn.model_selection import LeavePOut\n",
    "import warnings\n",
    "warnings.filterwarnings(\"ignore\", category=DeprecationWarning)"
   ]
  },
  {
   "cell_type": "markdown",
   "metadata": {},
   "source": [
    "## Utilities functions for working with the dataset"
   ]
  },
  {
   "cell_type": "code",
   "execution_count": 12,
   "metadata": {
    "collapsed": true
   },
   "outputs": [],
   "source": [
    "def split_matrix_two_blocks(y, percentage1, percentage2, seed):\n",
    "    \"\"\"Build k indices for k-fold.\"\"\"\n",
    "    if(percentage1+percentage2==1):\n",
    "        num_row = len(y)\n",
    "        #print(num_row)\n",
    "        interval_1 = int(percentage1*num_row);\n",
    "        \n",
    "        np.random.seed(seed)\n",
    "        indices = np.random.permutation(num_row);\n",
    "        first_indices = indices[0:interval_1];\n",
    "        second_indices = indices[interval_1:num_row];\n",
    "        return [np.array(first_indices),np.array(second_indices)]\n",
    "    else:\n",
    "        print('>>>>>>>>>>>ERROR:Not valid splitting percentage')\n",
    "        \n",
    "        \n",
    "##\n",
    "## This function reutrn a list of matrices. Each matrix correspond to a question instance in which each row is a channel, and in the coloumn it develop the signal in time\n",
    "## The function also manage to standardize the time length\n",
    "def channels_to_vector(channels): \n",
    "    time_instances=[];\n",
    "    dim=channels.shape;\n",
    "    #find the length min of the signal in the specified temporal instance\n",
    "    length_min=len(channels[0,1]);\n",
    "    for i in range (0,dim[1]):\n",
    "        single_measurement=channels[0,i];\n",
    "        single_length=single_measurement.shape[0]\n",
    "        if(single_length<length_min):\n",
    "                length_min=single_length;\n",
    "    #export the signals\n",
    "    for i in range (0,dim[1]):\n",
    "        single_measurement=channels[0,i];\n",
    "        dim1=single_measurement.shape;\n",
    "        time_instance=[];\n",
    "        for j  in range (0,dim1[1]):\n",
    "            if(len(single_measurement[:,j])>length_min):\n",
    "                single_signal=single_measurement[:,j][0:length_min]\n",
    "            else:\n",
    "                single_signal=single_measurement[:,j]\n",
    "            #put in a list \n",
    "            time_instance.append(np.asarray(single_signal).reshape(len(single_signal),1).T);\n",
    "       # create the matrix of the signals per a single time instance \n",
    "        time_instance=np.concatenate(time_instance);\n",
    "        time_instances.append(time_instance);   \n",
    "    return time_instances;\n",
    "\n",
    "\n",
    "##\n",
    "# Create the train data matrix\n",
    "##\n",
    "## usage\n",
    "def get_feature_matrix_and_labels(channel_structure,label,features_extracted,connectivity_feature):\n",
    "    list_train=[]\n",
    "    list_labels=[]\n",
    "    cont=0;\n",
    "    index_connectivity=0;\n",
    "    list_row=[]\n",
    "    \n",
    "    for time_instance in channel_structure:\n",
    "        dim1=time_instance.shape\n",
    "        #indipendent_components=extract_ICs(time_instance,n_ICA_components);\n",
    "        for j  in range (0,dim1[0]):\n",
    "           \n",
    "            features=features_extracted[cont,:];\n",
    "            list_row.append(features);\n",
    "            cont=cont+1;\n",
    "        \"\"\"feature_dictionary[\"fft_max_frequencies\"]=0;\n",
    "        for single_component in indipendent_components:\n",
    "            features=feature_extraction(single_component,feature_dictionary,features_extracted)\n",
    "            list_row.append(features);\"\"\"\n",
    "        list_row.append(connectivity_feature[index_connectivity,:]);\n",
    "        index_connectivity=index_connectivity+1;\n",
    "        labels=get_labels(1,label);\n",
    "        feature_row=np.concatenate(list_row);\n",
    "        list_train.append(feature_row.reshape(len(feature_row),1).T)\n",
    "        list_labels.append(labels);\n",
    "        list_row=[]\n",
    "        \n",
    "    train_TX=np.concatenate(list_train)\n",
    "    labels=np.concatenate(list_labels,axis=0)\n",
    "    \n",
    "    return train_TX,labels.T.reshape(labels.size)\n",
    "\n",
    "\n",
    "### Description\n",
    "def get_labels(number, string):\n",
    "    if(string==\"No\"):\n",
    "        return np.zeros(number)    \n",
    "    if(string==\"Yes\"):\n",
    "        return np.ones(number)\n",
    "    \n",
    "## description\n",
    "def select_features(weights,matrix,th):\n",
    "    cont=0;\n",
    "    i=0;\n",
    "    while(cont<len(weights)):\n",
    "        if(weights[cont]<th):\n",
    "\n",
    "            mask = np.ones(matrix.shape[1], dtype=bool)\n",
    "            mask[i] = False\n",
    "            matrix=matrix[:,mask]\n",
    "        else:\n",
    "            i=i+1;\n",
    "        cont=cont+1;\n",
    "    return matrix\n",
    "\n",
    "\n",
    "def get_accuracy(predicted_labels, true_labels):\n",
    "     if (predicted_labels.size == true_labels.size):\n",
    "        return  np.sum(predicted_labels ==  true_labels )/len( true_labels)"
   ]
  },
  {
   "cell_type": "markdown",
   "metadata": {},
   "source": [
    "## EEG feature loading\n",
    "\n",
    "Import data from previous analysis\n"
   ]
  },
  {
   "cell_type": "code",
   "execution_count": 13,
   "metadata": {
    "collapsed": false
   },
   "outputs": [
    {
     "name": "stdout",
     "output_type": "stream",
     "text": [
      "The dataset have shape:\n",
      "(60, 386)\n"
     ]
    }
   ],
   "source": [
    "#Import data from mat files\n",
    "yes_EEG_contents = sio.loadmat('EEGyes.mat')\n",
    "no_EEG_contents = sio.loadmat('EEGno.mat')\n",
    "\n",
    "channels_no_EEG=no_EEG_contents[\"EEGno\"]\n",
    "channels_yes_EEG=yes_EEG_contents[\"EEGyes\"]\n",
    "\n",
    "#Features Loading\n",
    "features_extracted_yes   = sio.loadmat('FeaturesYes.mat')['FeaturesYes']\n",
    "features_extracted_no    = sio.loadmat('FeaturesNO.mat')['FeaturesNo']\n",
    "connectivity_feature_yes = sio.loadmat('ConnectivityFeaturesYes.mat')['ConnectivityFeaturesYes']\n",
    "connectivity_feature_no  = sio.loadmat('ConnectivityFeaturesNo.mat')['ConnectivityFeaturesNo']\n",
    "\n",
    "channels_structure_yes_EEG = channels_to_vector(channels_yes_EEG)\n",
    "channels_structure_no_EEG  = channels_to_vector(channels_no_EEG)\n",
    "\n",
    "##Structuring of the data:\n",
    "#the code below create the train matrix with respect to the signal given in \"channel_structure\" but using the features contained in \"features_extracted*\" and in \"connettivity_feature*\".\n",
    "feature_dataset_yes_EEG, EEG_yes_labels = get_feature_matrix_and_labels(channels_structure_yes_EEG,\"Yes\",features_extracted_yes,connectivity_feature_yes);\n",
    "\n",
    "feature_dataset_no_EEG, EEG_no_labels = get_feature_matrix_and_labels(channels_structure_no_EEG,\"No\",features_extracted_no,connectivity_feature_no);\n",
    "\n",
    "#Merge the labeled data\n",
    "feature_dataset_full = np.concatenate((feature_dataset_yes_EEG, feature_dataset_no_EEG), axis=0 )\n",
    "labels = np.concatenate((EEG_yes_labels,EEG_no_labels), axis=0)\n",
    "\n",
    "\n",
    "print(\"The dataset have shape:\")\n",
    "print(feature_dataset_full.shape)"
   ]
  },
  {
   "cell_type": "markdown",
   "metadata": {},
   "source": [
    "## Leave One Out "
   ]
  },
  {
   "cell_type": "code",
   "execution_count": 14,
   "metadata": {
    "collapsed": true
   },
   "outputs": [],
   "source": [
    "def get_accuracy(predicted_labels, true_labels):\n",
    "     if (predicted_labels.size == true_labels.size):\n",
    "        return  np.sum(predicted_labels ==  true_labels)/len(predicted_labels)\n",
    "    \n",
    "def get_accuracy_std(predicted_labels, true_labels):\n",
    "     if (predicted_labels.size == true_labels.size):\n",
    "        return  np.sum(predicted_labels ==  true_labels)\n",
    "    \n",
    "def leave_one_out(X, Y, classifier):\n",
    "    svm_total_acc_test = []\n",
    "    for i in range(X.shape[0]):\n",
    "#SVM classifier definition\n",
    "        i1 = [j for j in range(X.shape[0])]\n",
    "        i1.remove(i)\n",
    "        i2 = i\n",
    "        train=X[i1,:]\n",
    "        labels_train=Y[i1]\n",
    "\n",
    "        test= X[i2,:]\n",
    "        labels_test=Y[i2]\n",
    "        clf_temp = classifier\n",
    "        clf_temp.fit(train, labels_train)  \n",
    "\n",
    "        #Accuracy on test\n",
    "        predicted_labels_test = clf_temp.predict(test)\n",
    "        SVM_accuracy_test = get_accuracy(predicted_labels_test, labels_test)\n",
    "        svm_total_acc_test.append(SVM_accuracy_test)\n",
    "\n",
    "    return(np.mean(svm_total_acc_test))\n",
    "\n",
    "\n",
    "def leave_one_out_std(X, Y, classifier):\n",
    "    svm_total_acc_test = []\n",
    "    for i in range(X.shape[0]):\n",
    "        \n",
    "#SVM classifier definition\n",
    "        i1 = [j for j in range(X.shape[0])]\n",
    "        i1.remove(i)\n",
    "        i2 = i\n",
    "        train=X[i1,:]\n",
    "        labels_train=Y[i1]\n",
    "\n",
    "        test = X[i2,:]\n",
    "        labels_test=Y[i2]\n",
    "        \n",
    "        scaler = StandardScaler()\n",
    "        scaler.fit(train)\n",
    "        train = scaler.transform(train)\n",
    "        test = scaler.transform(test)\n",
    "        \n",
    "        \n",
    "        clf_temp = classifier\n",
    "        clf_temp.fit(train, labels_train)  \n",
    "        \n",
    "        #Accuracy on test\n",
    "        predicted_labels_test = clf_temp.predict(test)\n",
    "        SVM_accuracy_test = get_accuracy_std(predicted_labels_test, labels_test)\n",
    "        svm_total_acc_test.append(SVM_accuracy_test)\n",
    "\n",
    "    return(np.mean(svm_total_acc_test))\n",
    "\n",
    "\n",
    "def leave_two_out(X, Y, classifier):\n",
    "    svm_total_acc_test = []\n",
    "    for i in range(X.shape[0]):\n",
    "        for l in range(X.shape[0]):\n",
    "            if(i!=l):\n",
    "                #scaler = StandardScaler()\n",
    "        #SVM classifier definition\n",
    "                i1 = [j for j in range(X.shape[0])]\n",
    "                i1.remove(i)\n",
    "                i2 = i\n",
    "                train=X[i1,:]\n",
    "                labels_train=Y[i1]\n",
    "\n",
    "                test = X[i2,:]\n",
    "                labels_test=Y[i2]\n",
    "\n",
    "\n",
    "                #scaler.fit(train)\n",
    "                #train = scaler.transform(train)\n",
    "                #test = scaler.transform(test)\n",
    "\n",
    "\n",
    "                clf_temp = classifier\n",
    "                clf_temp.fit(train, labels_train)  \n",
    "\n",
    "                #Accuracy on test\n",
    "                predicted_labels_test = clf_temp.predict(test)\n",
    "                SVM_accuracy_test = get_accuracy(predicted_labels_test, labels_test)\n",
    "                svm_total_acc_test.append(SVM_accuracy_test)\n",
    "\n",
    "    return(np.mean(svm_total_acc_test))\n",
    "\n",
    "def leave_two_out_sci(X, Y, classifier):\n",
    "    svm_total_acc_test = []\n",
    "    lpo = LeavePOut(2)\n",
    "    \n",
    "    for train_index, test_index in lpo.split(X):\n",
    "        #print(\"TRAIN:\", train_index, \"TEST:\", test_index)\n",
    "        X_train, X_test = X[train_index], X[test_index]\n",
    "        y_train, y_test = Y[train_index], Y[test_index]\n",
    "                #scaler = StandardScaler()\n",
    "        \n",
    "        clf_temp = classifier\n",
    "        clf_temp.fit(X_train, y_train)  \n",
    "\n",
    "                #Accuracy on test\n",
    "        predicted_labels_test = clf_temp.predict(X_test)\n",
    "        SVM_accuracy_test = get_accuracy(predicted_labels_test, y_test)\n",
    "        svm_total_acc_test.append(SVM_accuracy_test)\n",
    "\n",
    "    return(np.mean(svm_total_acc_test))\n",
    "\n"
   ]
  },
  {
   "cell_type": "markdown",
   "metadata": {},
   "source": [
    "## Exploration of the best number of features\n",
    "\n",
    "Only the top-k features that have the best ANOVA F-test Score are retained.\n",
    "An hard-margin (C=1) SVM linear classifier is trained and its performances assessed with a full search leave-one-out\n",
    "\n",
    "Might require some computational time (spoiler: best k seems to be 21)"
   ]
  },
  {
   "cell_type": "raw",
   "metadata": {},
   "source": []
  },
  {
   "cell_type": "code",
   "execution_count": 15,
   "metadata": {
    "collapsed": false,
    "scrolled": true
   },
   "outputs": [
    {
     "name": "stdout",
     "output_type": "stream",
     "text": [
      "progress: 0.33333333333333337 %\n"
     ]
    },
    {
     "name": "stderr",
     "output_type": "stream",
     "text": [
      "/anaconda/lib/python3.6/site-packages/sklearn/utils/__init__.py:54: FutureWarning: Conversion of the second argument of issubdtype from `int` to `np.signedinteger` is deprecated. In future, it will be treated as `np.int64 == np.dtype(int).type`.\n",
      "  if np.issubdtype(mask.dtype, np.int):\n"
     ]
    },
    {
     "ename": "KeyboardInterrupt",
     "evalue": "",
     "output_type": "error",
     "traceback": [
      "\u001b[0;31m---------------------------------------------------------------------------\u001b[0m",
      "\u001b[0;31mKeyboardInterrupt\u001b[0m                         Traceback (most recent call last)",
      "\u001b[0;32m<ipython-input-15-51e54bb3a5ee>\u001b[0m in \u001b[0;36m<module>\u001b[0;34m()\u001b[0m\n\u001b[1;32m     12\u001b[0m             \u001b[0mmax_iter\u001b[0m\u001b[0;34m=\u001b[0m\u001b[0;34m-\u001b[0m\u001b[0;36m1\u001b[0m\u001b[0;34m,\u001b[0m \u001b[0mprobability\u001b[0m\u001b[0;34m=\u001b[0m\u001b[0;32mFalse\u001b[0m\u001b[0;34m,\u001b[0m \u001b[0mrandom_state\u001b[0m\u001b[0;34m=\u001b[0m\u001b[0;32mNone\u001b[0m\u001b[0;34m,\u001b[0m \u001b[0mshrinking\u001b[0m\u001b[0;34m=\u001b[0m\u001b[0;32mTrue\u001b[0m\u001b[0;34m,\u001b[0m\u001b[0;34m\u001b[0m\u001b[0m\n\u001b[1;32m     13\u001b[0m             tol=0.001, verbose=False)\n\u001b[0;32m---> 14\u001b[0;31m     \u001b[0mperf_temp\u001b[0m \u001b[0;34m=\u001b[0m \u001b[0mleave_two_out_sci\u001b[0m\u001b[0;34m(\u001b[0m\u001b[0mfeat_std\u001b[0m\u001b[0;34m,\u001b[0m \u001b[0mlabels\u001b[0m\u001b[0;34m,\u001b[0m \u001b[0msvc\u001b[0m\u001b[0;34m)\u001b[0m\u001b[0;34m\u001b[0m\u001b[0m\n\u001b[0m\u001b[1;32m     15\u001b[0m     \u001b[0mtot_perf\u001b[0m\u001b[0;34m.\u001b[0m\u001b[0mappend\u001b[0m\u001b[0;34m(\u001b[0m\u001b[0mperf_temp\u001b[0m\u001b[0;34m)\u001b[0m\u001b[0;34m\u001b[0m\u001b[0m\n\u001b[1;32m     16\u001b[0m \u001b[0;34m\u001b[0m\u001b[0m\n",
      "\u001b[0;32m<ipython-input-14-418f68b1134a>\u001b[0m in \u001b[0;36mleave_two_out_sci\u001b[0;34m(X, Y, classifier)\u001b[0m\n\u001b[1;32m    104\u001b[0m \u001b[0;34m\u001b[0m\u001b[0m\n\u001b[1;32m    105\u001b[0m         \u001b[0mclf_temp\u001b[0m \u001b[0;34m=\u001b[0m \u001b[0mclassifier\u001b[0m\u001b[0;34m\u001b[0m\u001b[0m\n\u001b[0;32m--> 106\u001b[0;31m         \u001b[0mclf_temp\u001b[0m\u001b[0;34m.\u001b[0m\u001b[0mfit\u001b[0m\u001b[0;34m(\u001b[0m\u001b[0mX_train\u001b[0m\u001b[0;34m,\u001b[0m \u001b[0my_train\u001b[0m\u001b[0;34m)\u001b[0m\u001b[0;34m\u001b[0m\u001b[0m\n\u001b[0m\u001b[1;32m    107\u001b[0m \u001b[0;34m\u001b[0m\u001b[0m\n\u001b[1;32m    108\u001b[0m                 \u001b[0;31m#Accuracy on test\u001b[0m\u001b[0;34m\u001b[0m\u001b[0;34m\u001b[0m\u001b[0m\n",
      "\u001b[0;32m/anaconda/lib/python3.6/site-packages/sklearn/svm/base.py\u001b[0m in \u001b[0;36mfit\u001b[0;34m(self, X, y, sample_weight)\u001b[0m\n\u001b[1;32m    187\u001b[0m \u001b[0;34m\u001b[0m\u001b[0m\n\u001b[1;32m    188\u001b[0m         \u001b[0mseed\u001b[0m \u001b[0;34m=\u001b[0m \u001b[0mrnd\u001b[0m\u001b[0;34m.\u001b[0m\u001b[0mrandint\u001b[0m\u001b[0;34m(\u001b[0m\u001b[0mnp\u001b[0m\u001b[0;34m.\u001b[0m\u001b[0miinfo\u001b[0m\u001b[0;34m(\u001b[0m\u001b[0;34m'i'\u001b[0m\u001b[0;34m)\u001b[0m\u001b[0;34m.\u001b[0m\u001b[0mmax\u001b[0m\u001b[0;34m)\u001b[0m\u001b[0;34m\u001b[0m\u001b[0m\n\u001b[0;32m--> 189\u001b[0;31m         \u001b[0mfit\u001b[0m\u001b[0;34m(\u001b[0m\u001b[0mX\u001b[0m\u001b[0;34m,\u001b[0m \u001b[0my\u001b[0m\u001b[0;34m,\u001b[0m \u001b[0msample_weight\u001b[0m\u001b[0;34m,\u001b[0m \u001b[0msolver_type\u001b[0m\u001b[0;34m,\u001b[0m \u001b[0mkernel\u001b[0m\u001b[0;34m,\u001b[0m \u001b[0mrandom_seed\u001b[0m\u001b[0;34m=\u001b[0m\u001b[0mseed\u001b[0m\u001b[0;34m)\u001b[0m\u001b[0;34m\u001b[0m\u001b[0m\n\u001b[0m\u001b[1;32m    190\u001b[0m         \u001b[0;31m# see comment on the other call to np.iinfo in this file\u001b[0m\u001b[0;34m\u001b[0m\u001b[0;34m\u001b[0m\u001b[0m\n\u001b[1;32m    191\u001b[0m \u001b[0;34m\u001b[0m\u001b[0m\n",
      "\u001b[0;32m/anaconda/lib/python3.6/site-packages/sklearn/svm/base.py\u001b[0m in \u001b[0;36m_dense_fit\u001b[0;34m(self, X, y, sample_weight, solver_type, kernel, random_seed)\u001b[0m\n\u001b[1;32m    254\u001b[0m                 \u001b[0mcache_size\u001b[0m\u001b[0;34m=\u001b[0m\u001b[0mself\u001b[0m\u001b[0;34m.\u001b[0m\u001b[0mcache_size\u001b[0m\u001b[0;34m,\u001b[0m \u001b[0mcoef0\u001b[0m\u001b[0;34m=\u001b[0m\u001b[0mself\u001b[0m\u001b[0;34m.\u001b[0m\u001b[0mcoef0\u001b[0m\u001b[0;34m,\u001b[0m\u001b[0;34m\u001b[0m\u001b[0m\n\u001b[1;32m    255\u001b[0m                 \u001b[0mgamma\u001b[0m\u001b[0;34m=\u001b[0m\u001b[0mself\u001b[0m\u001b[0;34m.\u001b[0m\u001b[0m_gamma\u001b[0m\u001b[0;34m,\u001b[0m \u001b[0mepsilon\u001b[0m\u001b[0;34m=\u001b[0m\u001b[0mself\u001b[0m\u001b[0;34m.\u001b[0m\u001b[0mepsilon\u001b[0m\u001b[0;34m,\u001b[0m\u001b[0;34m\u001b[0m\u001b[0m\n\u001b[0;32m--> 256\u001b[0;31m                 max_iter=self.max_iter, random_seed=random_seed)\n\u001b[0m\u001b[1;32m    257\u001b[0m \u001b[0;34m\u001b[0m\u001b[0m\n\u001b[1;32m    258\u001b[0m         \u001b[0mself\u001b[0m\u001b[0;34m.\u001b[0m\u001b[0m_warn_from_fit_status\u001b[0m\u001b[0;34m(\u001b[0m\u001b[0;34m)\u001b[0m\u001b[0;34m\u001b[0m\u001b[0m\n",
      "\u001b[0;31mKeyboardInterrupt\u001b[0m: "
     ]
    }
   ],
   "source": [
    "tot_perf = []\n",
    "end_feat = 100\n",
    "for k in range(1,end_feat):\n",
    "    print('progress: ' + str(k/300*100) + ' %')\n",
    "    reducer = SelectKBest(f_classif, k)\n",
    "    \n",
    "    scaler2= StandardScaler()\n",
    "    feat_std = scaler2.fit_transform(feature_dataset_full)\n",
    "    feature_dataset_reduced = reducer.fit_transform(feat_std, labels)\n",
    "    svc = svm.SVC(C=1, cache_size=200, class_weight=None, coef0=0.0,\n",
    "            decision_function_shape='ovr', degree=3, gamma='auto', kernel='linear',\n",
    "            max_iter=-1, probability=False, random_state=None, shrinking=True,\n",
    "            tol=0.001, verbose=False)\n",
    "    perf_temp = leave_two_out_sci(feat_std, labels, svc)\n",
    "    tot_perf.append(perf_temp)\n",
    "\n",
    "best_k = np.argmax(tot_perf)+1\n",
    "print(\"smallest k that gives best Leave-one-out results:\")\n",
    "print(best_k)\n",
    "print()\n",
    "print(\"wich have lead to the top performance:\")\n",
    "print(np.max(tot_perf))\n",
    "\n",
    "\n",
    "#What are those features?\n",
    "reducer = SelectKBest(f_classif, best_k)\n",
    "feature_dataset_reduced = reducer.fit_transform(feature_dataset_full, labels)\n",
    "boolean_vec = reducer.get_support()\n",
    "idx =[]\n",
    "for i in range(len(boolean_vec)): \n",
    "    if boolean_vec[i] == True: idx.append(i)\n",
    "print()\n",
    "print(\"index of features retained:\")\n",
    "print(idx)"
   ]
  },
  {
   "cell_type": "markdown",
   "metadata": {},
   "source": [
    "### Print of the results"
   ]
  },
  {
   "cell_type": "code",
   "execution_count": 16,
   "metadata": {
    "collapsed": false
   },
   "outputs": [
    {
     "ename": "ValueError",
     "evalue": "attempt to get argmax of an empty sequence",
     "output_type": "error",
     "traceback": [
      "\u001b[0;31m---------------------------------------------------------------------------\u001b[0m",
      "\u001b[0;31mAttributeError\u001b[0m                            Traceback (most recent call last)",
      "\u001b[0;32m/anaconda/lib/python3.6/site-packages/numpy/core/fromnumeric.py\u001b[0m in \u001b[0;36m_wrapfunc\u001b[0;34m(obj, method, *args, **kwds)\u001b[0m\n\u001b[1;32m     51\u001b[0m     \u001b[0;32mtry\u001b[0m\u001b[0;34m:\u001b[0m\u001b[0;34m\u001b[0m\u001b[0m\n\u001b[0;32m---> 52\u001b[0;31m         \u001b[0;32mreturn\u001b[0m \u001b[0mgetattr\u001b[0m\u001b[0;34m(\u001b[0m\u001b[0mobj\u001b[0m\u001b[0;34m,\u001b[0m \u001b[0mmethod\u001b[0m\u001b[0;34m)\u001b[0m\u001b[0;34m(\u001b[0m\u001b[0;34m*\u001b[0m\u001b[0margs\u001b[0m\u001b[0;34m,\u001b[0m \u001b[0;34m**\u001b[0m\u001b[0mkwds\u001b[0m\u001b[0;34m)\u001b[0m\u001b[0;34m\u001b[0m\u001b[0m\n\u001b[0m\u001b[1;32m     53\u001b[0m \u001b[0;34m\u001b[0m\u001b[0m\n",
      "\u001b[0;31mAttributeError\u001b[0m: 'list' object has no attribute 'argmax'",
      "\nDuring handling of the above exception, another exception occurred:\n",
      "\u001b[0;31mValueError\u001b[0m                                Traceback (most recent call last)",
      "\u001b[0;32m<ipython-input-16-134e99a13b0a>\u001b[0m in \u001b[0;36m<module>\u001b[0;34m()\u001b[0m\n\u001b[0;32m----> 1\u001b[0;31m \u001b[0mbest_k\u001b[0m \u001b[0;34m=\u001b[0m \u001b[0mnp\u001b[0m\u001b[0;34m.\u001b[0m\u001b[0margmax\u001b[0m\u001b[0;34m(\u001b[0m\u001b[0mtot_perf\u001b[0m\u001b[0;34m)\u001b[0m\u001b[0;34m+\u001b[0m\u001b[0;36m1\u001b[0m\u001b[0;34m\u001b[0m\u001b[0m\n\u001b[0m\u001b[1;32m      2\u001b[0m \u001b[0mprint\u001b[0m\u001b[0;34m(\u001b[0m\u001b[0;34m\"smallest k that gives best Leave-one-out results:\"\u001b[0m\u001b[0;34m)\u001b[0m\u001b[0;34m\u001b[0m\u001b[0m\n\u001b[1;32m      3\u001b[0m \u001b[0mprint\u001b[0m\u001b[0;34m(\u001b[0m\u001b[0mbest_k\u001b[0m\u001b[0;34m)\u001b[0m\u001b[0;34m\u001b[0m\u001b[0m\n\u001b[1;32m      4\u001b[0m \u001b[0mprint\u001b[0m\u001b[0;34m(\u001b[0m\u001b[0;34m)\u001b[0m\u001b[0;34m\u001b[0m\u001b[0m\n\u001b[1;32m      5\u001b[0m \u001b[0mprint\u001b[0m\u001b[0;34m(\u001b[0m\u001b[0;34m\"wich have lead to the top performance:\"\u001b[0m\u001b[0;34m)\u001b[0m\u001b[0;34m\u001b[0m\u001b[0m\n",
      "\u001b[0;32m/anaconda/lib/python3.6/site-packages/numpy/core/fromnumeric.py\u001b[0m in \u001b[0;36margmax\u001b[0;34m(a, axis, out)\u001b[0m\n\u001b[1;32m   1002\u001b[0m \u001b[0;34m\u001b[0m\u001b[0m\n\u001b[1;32m   1003\u001b[0m     \"\"\"\n\u001b[0;32m-> 1004\u001b[0;31m     \u001b[0;32mreturn\u001b[0m \u001b[0m_wrapfunc\u001b[0m\u001b[0;34m(\u001b[0m\u001b[0ma\u001b[0m\u001b[0;34m,\u001b[0m \u001b[0;34m'argmax'\u001b[0m\u001b[0;34m,\u001b[0m \u001b[0maxis\u001b[0m\u001b[0;34m=\u001b[0m\u001b[0maxis\u001b[0m\u001b[0;34m,\u001b[0m \u001b[0mout\u001b[0m\u001b[0;34m=\u001b[0m\u001b[0mout\u001b[0m\u001b[0;34m)\u001b[0m\u001b[0;34m\u001b[0m\u001b[0m\n\u001b[0m\u001b[1;32m   1005\u001b[0m \u001b[0;34m\u001b[0m\u001b[0m\n\u001b[1;32m   1006\u001b[0m \u001b[0;34m\u001b[0m\u001b[0m\n",
      "\u001b[0;32m/anaconda/lib/python3.6/site-packages/numpy/core/fromnumeric.py\u001b[0m in \u001b[0;36m_wrapfunc\u001b[0;34m(obj, method, *args, **kwds)\u001b[0m\n\u001b[1;32m     60\u001b[0m     \u001b[0;31m# a downstream library like 'pandas'.\u001b[0m\u001b[0;34m\u001b[0m\u001b[0;34m\u001b[0m\u001b[0m\n\u001b[1;32m     61\u001b[0m     \u001b[0;32mexcept\u001b[0m \u001b[0;34m(\u001b[0m\u001b[0mAttributeError\u001b[0m\u001b[0;34m,\u001b[0m \u001b[0mTypeError\u001b[0m\u001b[0;34m)\u001b[0m\u001b[0;34m:\u001b[0m\u001b[0;34m\u001b[0m\u001b[0m\n\u001b[0;32m---> 62\u001b[0;31m         \u001b[0;32mreturn\u001b[0m \u001b[0m_wrapit\u001b[0m\u001b[0;34m(\u001b[0m\u001b[0mobj\u001b[0m\u001b[0;34m,\u001b[0m \u001b[0mmethod\u001b[0m\u001b[0;34m,\u001b[0m \u001b[0;34m*\u001b[0m\u001b[0margs\u001b[0m\u001b[0;34m,\u001b[0m \u001b[0;34m**\u001b[0m\u001b[0mkwds\u001b[0m\u001b[0;34m)\u001b[0m\u001b[0;34m\u001b[0m\u001b[0m\n\u001b[0m\u001b[1;32m     63\u001b[0m \u001b[0;34m\u001b[0m\u001b[0m\n\u001b[1;32m     64\u001b[0m \u001b[0;34m\u001b[0m\u001b[0m\n",
      "\u001b[0;32m/anaconda/lib/python3.6/site-packages/numpy/core/fromnumeric.py\u001b[0m in \u001b[0;36m_wrapit\u001b[0;34m(obj, method, *args, **kwds)\u001b[0m\n\u001b[1;32m     40\u001b[0m     \u001b[0;32mexcept\u001b[0m \u001b[0mAttributeError\u001b[0m\u001b[0;34m:\u001b[0m\u001b[0;34m\u001b[0m\u001b[0m\n\u001b[1;32m     41\u001b[0m         \u001b[0mwrap\u001b[0m \u001b[0;34m=\u001b[0m \u001b[0;32mNone\u001b[0m\u001b[0;34m\u001b[0m\u001b[0m\n\u001b[0;32m---> 42\u001b[0;31m     \u001b[0mresult\u001b[0m \u001b[0;34m=\u001b[0m \u001b[0mgetattr\u001b[0m\u001b[0;34m(\u001b[0m\u001b[0masarray\u001b[0m\u001b[0;34m(\u001b[0m\u001b[0mobj\u001b[0m\u001b[0;34m)\u001b[0m\u001b[0;34m,\u001b[0m \u001b[0mmethod\u001b[0m\u001b[0;34m)\u001b[0m\u001b[0;34m(\u001b[0m\u001b[0;34m*\u001b[0m\u001b[0margs\u001b[0m\u001b[0;34m,\u001b[0m \u001b[0;34m**\u001b[0m\u001b[0mkwds\u001b[0m\u001b[0;34m)\u001b[0m\u001b[0;34m\u001b[0m\u001b[0m\n\u001b[0m\u001b[1;32m     43\u001b[0m     \u001b[0;32mif\u001b[0m \u001b[0mwrap\u001b[0m\u001b[0;34m:\u001b[0m\u001b[0;34m\u001b[0m\u001b[0m\n\u001b[1;32m     44\u001b[0m         \u001b[0;32mif\u001b[0m \u001b[0;32mnot\u001b[0m \u001b[0misinstance\u001b[0m\u001b[0;34m(\u001b[0m\u001b[0mresult\u001b[0m\u001b[0;34m,\u001b[0m \u001b[0mmu\u001b[0m\u001b[0;34m.\u001b[0m\u001b[0mndarray\u001b[0m\u001b[0;34m)\u001b[0m\u001b[0;34m:\u001b[0m\u001b[0;34m\u001b[0m\u001b[0m\n",
      "\u001b[0;31mValueError\u001b[0m: attempt to get argmax of an empty sequence"
     ]
    }
   ],
   "source": [
    "best_k = np.argmax(tot_perf)+1\n",
    "print(\"smallest k that gives best Leave-one-out results:\")\n",
    "print(best_k)\n",
    "print()\n",
    "print(\"wich have lead to the top performance:\")\n",
    "print(np.max(tot_perf))\n",
    "\n",
    "\n",
    "#What are those features?\n",
    "reducer = SelectKBest(f_classif, best_k)\n",
    "feature_dataset_reduced = reducer.fit_transform(feature_dataset_full, labels)\n",
    "boolean_vec = reducer.get_support()\n",
    "idx =[]\n",
    "for i in range(len(boolean_vec)): \n",
    "    if boolean_vec[i] == True: idx.append(i)\n",
    "print()\n",
    "print(\"index of features retained:\")\n",
    "print(idx)"
   ]
  },
  {
   "cell_type": "code",
   "execution_count": 95,
   "metadata": {
    "collapsed": false
   },
   "outputs": [
    {
     "name": "stdout",
     "output_type": "stream",
     "text": [
      "[0.9731638418079096, 0.9731638418079096, 0.9731638418079096, 0.9731638418079096, 0.9731638418079096, 0.9731638418079096, 0.9731638418079096, 0.9731638418079096, 0.9731638418079096, 0.9731638418079096, 0.9731638418079096]\n"
     ]
    }
   ],
   "source": [
    "print(tot_perf)"
   ]
  },
  {
   "cell_type": "markdown",
   "metadata": {},
   "source": [
    "# Evaluation of performances with varying size train/test\n",
    "\n",
    "Definition of utilities functions"
   ]
  },
  {
   "cell_type": "code",
   "execution_count": 17,
   "metadata": {
    "collapsed": true
   },
   "outputs": [],
   "source": [
    "def classification_SVM_experiments(X, Y, clf_parameters, fraction_train_test, num_experiments):\n",
    "    \n",
    "    seed=range(num_experiments)\n",
    "    svm_total_acc_test  = []\n",
    "    svm_total_acc_train = [] \n",
    "    dataset_length=X.shape[0];\n",
    "    \n",
    "    for single_seed in seed:\n",
    "        [i1,i2]=split_matrix_two_blocks(X, fraction_train_test, 1-fraction_train_test,single_seed)\n",
    "        \n",
    "        train =X[i1,:]\n",
    "        labels_train=Y[i1]\n",
    "        \n",
    "        test = X[i2,:]\n",
    "        labels_test=Y[i2]\n",
    "        \n",
    "        #SVM classificator definition\n",
    "        C_best = clf_parameters['C']\n",
    "        gamma_best = clf_parameters['gamma']\n",
    "        kernel_best = clf_parameters['kernel']\n",
    "        \n",
    "        clf = svm.SVC(C = C_best, kernel = kernel_best, gamma = gamma_best, random_state = single_seed)\n",
    "        #SVM fit on train data\n",
    "        clf.fit(train, labels_train)  \n",
    "        #print(test.shape)\n",
    "        #print(labels_test.shape)\n",
    "        \n",
    "        #Accuracy on test\n",
    "        predicted_labels_test = clf.predict(test)\n",
    "        SVM_accuracy_test = get_accuracy(predicted_labels_test, labels_test)\n",
    "        svm_total_acc_test.append(SVM_accuracy_test)\n",
    "        \n",
    "        \n",
    "        #Accuracy on train\n",
    "        predicted_labels_train = clf.predict(train)\n",
    "        SVM_accuracy_train = get_accuracy(predicted_labels_train, labels_train)\n",
    "        svm_total_acc_train.append(SVM_accuracy_train)\n",
    "        #print(\"Accuracy: \"+ str(SVM_accuracy) + \"; iteration  \" + str(single_seed) )\n",
    "    return svm_total_acc_test, svm_total_acc_train\n",
    "\n",
    "def performance_assesment_fraction(X, Y, num_experiment, clf_parameters):\n",
    "    fracs = np.linspace(0.2,0.9,25)\n",
    "    accuracy_test_mean  = []\n",
    "    accuracy_test_std   = []\n",
    "    accuracy_train_mean = []\n",
    "    accuracy_train_std  = []\n",
    "\n",
    "    for frac_tr_te in fracs:\n",
    "        print(\"Evaluation progress: \" + str(int((frac_tr_te-fracs[0])/(fracs[-1]-fracs[0])*100)) + \" %\")\n",
    "        acc_test, acc_train = classification_SVM_experiments(X, Y, clf_parameters, frac_tr_te, num_experiment)\n",
    "        #saving of metrics of interest\n",
    "        accuracy_test_mean.append(np.mean(acc_test))\n",
    "        accuracy_test_std.append(np.std(acc_test))\n",
    "        accuracy_train_mean.append(np.mean(acc_train))\n",
    "        accuracy_train_std.append(np.std(acc_train))\n",
    "\n",
    "    #plot the figure\n",
    "    plt.figure(figsize=(10, 7), dpi=80)\n",
    "    plt.errorbar(fracs, accuracy_test_mean, yerr=accuracy_test_std, label=\"Error bars plot\", fmt=\"s-\",  linewidth=3)\n",
    "    plt.errorbar(fracs, accuracy_train_mean, yerr=accuracy_train_std, label=\"Error bars plot\", fmt=\"s-\",  linewidth=3)\n",
    "    plt.grid(b=True, which='major', color='k', linestyle='--', alpha = 0.4)\n",
    "    plt.minorticks_on()\n",
    "    plt.title('SVM perfomances over different train/test dataset of reduced features')\n",
    "    plt.ylabel('Accuracy')\n",
    "    plt.xlabel('Train/test fraction')\n",
    "\n",
    "    plt.legend(['Test Accuracy', 'Train Accuracy'], loc=4)\n",
    "    plt.savefig('train_test_acc_fine_tuned2.eps', format='eps')\n",
    "    plt.show()"
   ]
  },
  {
   "cell_type": "markdown",
   "metadata": {},
   "source": [
    "Actual calling of the function above"
   ]
  },
  {
   "cell_type": "code",
   "execution_count": 59,
   "metadata": {
    "collapsed": false
   },
   "outputs": [
    {
     "data": {
      "text/plain": [
       "(60, 1)"
      ]
     },
     "execution_count": 59,
     "metadata": {},
     "output_type": "execute_result"
    }
   ],
   "source": [
    "feature_dataset_full[:,292:293].shape"
   ]
  },
  {
   "cell_type": "code",
   "execution_count": 18,
   "metadata": {
    "collapsed": false,
    "scrolled": false
   },
   "outputs": [
    {
     "name": "stdout",
     "output_type": "stream",
     "text": [
      "\n",
      "index of features retained:\n",
      "[11, 14, 18, 22, 39, 45, 46, 58, 66, 67, 70, 71, 74, 82, 93, 106, 110, 115, 118, 119, 120, 122, 128, 136, 139, 143, 158, 161, 165, 169, 173, 192, 193, 201, 213, 214, 217, 218, 228, 236, 240, 244, 248, 256, 260, 262, 263, 272, 276, 284, 287, 288, 291, 292, 304, 312, 316, 320, 340, 354, 358]\n"
     ]
    },
    {
     "name": "stderr",
     "output_type": "stream",
     "text": [
      "/anaconda/lib/python3.6/site-packages/sklearn/utils/__init__.py:54: FutureWarning: Conversion of the second argument of issubdtype from `int` to `np.signedinteger` is deprecated. In future, it will be treated as `np.int64 == np.dtype(int).type`.\n",
      "  if np.issubdtype(mask.dtype, np.int):\n"
     ]
    }
   ],
   "source": [
    "reducer = SelectKBest(f_classif, 61)\n",
    "feature_dataset_reduced = reducer.fit_transform(feature_dataset_full, labels)\n",
    "boolean_vec = reducer.get_support()\n",
    "idx =[]\n",
    "for i in range(len(boolean_vec)): \n",
    "    if boolean_vec[i] == True: idx.append(i)\n",
    "print()\n",
    "print(\"index of features retained:\")\n",
    "print(idx)\n",
    "\n",
    "para = {'C' : 1, 'kernel' : 'linear', 'gamma' : 'auto' } #parameters of the SVM\n",
    "\n",
    "#performance_assesment_fraction(feature_dataset_full[:,292:293], labels, 500, para)"
   ]
  },
  {
   "cell_type": "markdown",
   "metadata": {},
   "source": [
    "## Leave-Two-out evaluation\n",
    "\n",
    "note: this code could be optimized to be 2 times faster"
   ]
  },
  {
   "cell_type": "code",
   "execution_count": null,
   "metadata": {
    "collapsed": false,
    "scrolled": true
   },
   "outputs": [],
   "source": [
    "svc = svm.SVC(C=1, cache_size=200, class_weight=None, coef0=0.0,\n",
    "                    decision_function_shape='ovr', degree=3, gamma='auto', kernel='linear',\n",
    "                    max_iter=-1, probability=False, random_state=None, shrinking=True,\n",
    "                    tol=0.001, verbose=False)\n",
    "\n",
    "X = feature_dataset_reduced\n",
    "Y = labels\n",
    "\n",
    "svm_total_acc_test = []\n",
    "#performances assessment with leave three out\n",
    "n = X.shape[0]\n",
    "for i in range(n):\n",
    "    print(\"progress: \" + str(i/n*100) + \" %\")\n",
    "    for j in range(n):\n",
    "        if(j!=i):\n",
    "            i1 = [l for l in range(n)]\n",
    "            i1.remove(i)\n",
    "            i1.remove(j)\n",
    "            i2 = [i, j]\n",
    "                    \n",
    "            train=X[i1,:]\n",
    "            labels_train=Y[i1]\n",
    "\n",
    "            test= X[i2,:]\n",
    "            labels_test=Y[i2]\n",
    " \n",
    "            clf = svc      \n",
    "            #SVM fit on train data\n",
    "            clf.fit(train, labels_train)  \n",
    "\n",
    "            #Accuracy on test\n",
    "            predicted_labels_test = clf.predict(test)\n",
    "            SVM_accuracy_test = get_accuracy(predicted_labels_test, labels_test)\n",
    "            svm_total_acc_test.append(SVM_accuracy_test)\n",
    "\n",
    "print()\n",
    "print()\n",
    "print(\"mean of test accuracy\")\n",
    "print(np.mean(svm_total_acc_test))"
   ]
  },
  {
   "cell_type": "markdown",
   "metadata": {},
   "source": [
    "## Leave-three-out Evaluation\n",
    "\n",
    "note: this code could be optimized to be 3! = 6 times faster, this will take some time"
   ]
  },
  {
   "cell_type": "code",
   "execution_count": null,
   "metadata": {
    "collapsed": false,
    "scrolled": false
   },
   "outputs": [],
   "source": [
    "svc = svm.SVC(C=1, cache_size=200, class_weight=None, coef0=0.0,\n",
    "                    decision_function_shape='ovr', degree=3, gamma='auto', kernel='linear',\n",
    "                    max_iter=-1, probability=False, random_state=None, shrinking=True,\n",
    "                    tol=0.001, verbose=False)\n",
    "\n",
    "X = feature_dataset_reduced\n",
    "Y = labels\n",
    "\n",
    "svm_total_acc_test = []\n",
    "#performances assessment with leave three out\n",
    "n = X.shape[0]\n",
    "for i in range(n):\n",
    "    print(\"progress: \" + str(i/n*100) + \" %\")\n",
    "    for j in range(n):\n",
    "        if(j!=i):\n",
    "            for k in range(n):\n",
    "                if(k!=j and k!=i):\n",
    "            #SVM classifier definition\n",
    "                    i1 = [l for l in range(n)]\n",
    "                    i1.remove(i)\n",
    "                    i1.remove(j)\n",
    "                    i1.remove(k)\n",
    "                    i2 = [i, j, k]\n",
    "                    \n",
    "                    train=X[i1,:]\n",
    "                    labels_train=Y[i1]\n",
    "\n",
    "                    test= X[i2,:]\n",
    "                    labels_test=Y[i2]\n",
    "                #print(i1)\n",
    "                #print(i2)\n",
    "                    clf = svc      \n",
    "                #SVM fit on train data\n",
    "                    clf.fit(train, labels_train)  \n",
    "\n",
    "                #Accuracy on test\n",
    "                    predicted_labels_test = clf.predict(test)\n",
    "                    SVM_accuracy_test = get_accuracy(predicted_labels_test, labels_test)\n",
    "                    svm_total_acc_test.append(SVM_accuracy_test)\n",
    "\n",
    "print()\n",
    "print()\n",
    "print(\"mean of test accuracy\")\n",
    "print(np.mean(svm_total_acc_test))"
   ]
  },
  {
   "cell_type": "code",
   "execution_count": 21,
   "metadata": {
    "collapsed": true
   },
   "outputs": [],
   "source": [
    "from sklearn.preprocessing import StandardScaler\n",
    "\n",
    "def classification_SVM_experiments_std(X, Y, clf_parameters, fraction_train_test, num_experiments):\n",
    "    \n",
    "    seed=range(num_experiments)\n",
    "    svm_total_acc_test  = []\n",
    "    svm_total_acc_train = [] \n",
    "    dataset_length=X.shape[0];\n",
    "    \n",
    "    for single_seed in seed:\n",
    "        scaler = StandardScaler()\n",
    "        \n",
    "        [i1,i2]=split_matrix_two_blocks(X, fraction_train_test, 1-fraction_train_test,single_seed)\n",
    "        \n",
    "        \n",
    "        train =X[i1,:]\n",
    "        labels_train=Y[i1]\n",
    "        \n",
    "        test = X[i2,:]\n",
    "        labels_test=Y[i2]\n",
    "        \n",
    "        scaler.fit(train)\n",
    "        train = scaler.transform(train)\n",
    "        test = scaler.transform(test)\n",
    "        \n",
    "        #SVM classificator definition\n",
    "        C_best = clf_parameters['C']\n",
    "        gamma_best = clf_parameters['gamma']\n",
    "        kernel_best = clf_parameters['kernel']\n",
    "        \n",
    "        clf = svm.SVC(C = C_best, kernel = kernel_best, gamma = gamma_best, random_state = single_seed)\n",
    "        #SVM fit on train data\n",
    "        clf.fit(train, labels_train)  \n",
    "        #print(test.shape)\n",
    "        #print(labels_test.shape)\n",
    "        \n",
    "        #Accuracy on test\n",
    "        predicted_labels_test = clf.predict(test)\n",
    "        SVM_accuracy_test = get_accuracy(predicted_labels_test, labels_test)\n",
    "        svm_total_acc_test.append(SVM_accuracy_test)\n",
    "        \n",
    "        \n",
    "        #Accuracy on train\n",
    "        predicted_labels_train = clf.predict(train)\n",
    "        SVM_accuracy_train = get_accuracy(predicted_labels_train, labels_train)\n",
    "        svm_total_acc_train.append(SVM_accuracy_train)\n",
    "        #print(\"Accuracy: \"+ str(SVM_accuracy) + \"; iteration  \" + str(single_seed) )\n",
    "    return svm_total_acc_test, svm_total_acc_train\n",
    "\n",
    "def performance_assesment_fraction_std(X, Y, num_experiment, clf_parameters):\n",
    "    fracs = np.linspace(0.2,0.9,60)\n",
    "    accuracy_test_mean  = []\n",
    "    accuracy_test_std   = []\n",
    "    accuracy_train_mean = []\n",
    "    accuracy_train_std  = []\n",
    "\n",
    "    for frac_tr_te in fracs:\n",
    "        print(\"Evaluation progress: \" + str(int((frac_tr_te-fracs[0])/(fracs[-1]-fracs[0])*100)) + \" %\")\n",
    "        acc_test, acc_train = classification_SVM_experiments_std(X, Y, clf_parameters, frac_tr_te, num_experiment)\n",
    "        #saving of metrics of interest\n",
    "        accuracy_test_mean.append(np.mean(acc_test))\n",
    "        accuracy_test_std.append(np.std(acc_test))\n",
    "        accuracy_train_mean.append(np.mean(acc_train))\n",
    "        accuracy_train_std.append(np.std(acc_train))\n",
    "\n",
    "    #plot the figure\n",
    "    plt.figure(figsize=(10, 7), dpi=80)\n",
    "    plt.errorbar(np.floor(fracs*60), accuracy_test_mean, yerr=accuracy_test_std, label=\"Error bars plot\", fmt=\"s-\",  linewidth=3)\n",
    "    plt.errorbar(np.floor(fracs*60), accuracy_train_mean, yerr=accuracy_train_std, label=\"Error bars plot\", fmt=\"s-\",  linewidth=3)\n",
    "    plt.grid(b=True, which='major', color='k', linestyle='--', alpha = 0.4)\n",
    "    plt.minorticks_on()\n",
    "    plt.title('SVM perfomances over different train/test dataset of reduced features')\n",
    "    plt.ylabel('Accuracy')\n",
    "    plt.xlabel('Train instances considered')\n",
    "\n",
    "    plt.legend(['Test Accuracy', 'Train Accuracy'], loc=4)\n",
    "    plt.savefig('train_test_acc_fine_tuned2.eps', format='eps')\n",
    "    plt.show()"
   ]
  },
  {
   "cell_type": "code",
   "execution_count": 22,
   "metadata": {
    "collapsed": false
   },
   "outputs": [
    {
     "name": "stderr",
     "output_type": "stream",
     "text": [
      "/anaconda/lib/python3.6/site-packages/sklearn/utils/__init__.py:54: FutureWarning: Conversion of the second argument of issubdtype from `int` to `np.signedinteger` is deprecated. In future, it will be treated as `np.int64 == np.dtype(int).type`.\n",
      "  if np.issubdtype(mask.dtype, np.int):\n"
     ]
    },
    {
     "name": "stdout",
     "output_type": "stream",
     "text": [
      "Evaluation progress: 0 %\n",
      "Evaluation progress: 1 %\n",
      "Evaluation progress: 3 %\n",
      "Evaluation progress: 5 %\n",
      "Evaluation progress: 6 %\n",
      "Evaluation progress: 8 %\n",
      "Evaluation progress: 10 %\n",
      "Evaluation progress: 11 %\n",
      "Evaluation progress: 13 %\n",
      "Evaluation progress: 15 %\n",
      "Evaluation progress: 16 %\n",
      "Evaluation progress: 18 %\n",
      "Evaluation progress: 20 %\n",
      "Evaluation progress: 22 %\n",
      "Evaluation progress: 23 %\n",
      "Evaluation progress: 25 %\n",
      "Evaluation progress: 27 %\n",
      "Evaluation progress: 28 %\n",
      "Evaluation progress: 30 %\n",
      "Evaluation progress: 32 %\n",
      "Evaluation progress: 33 %\n",
      "Evaluation progress: 35 %\n",
      "Evaluation progress: 37 %\n",
      "Evaluation progress: 38 %\n",
      "Evaluation progress: 40 %\n",
      "Evaluation progress: 42 %\n",
      "Evaluation progress: 44 %\n",
      "Evaluation progress: 45 %\n",
      "Evaluation progress: 47 %\n",
      "Evaluation progress: 49 %\n",
      "Evaluation progress: 50 %\n",
      "Evaluation progress: 52 %\n",
      "Evaluation progress: 54 %\n",
      "Evaluation progress: 55 %\n",
      "Evaluation progress: 57 %\n",
      "Evaluation progress: 59 %\n",
      "Evaluation progress: 61 %\n",
      "Evaluation progress: 62 %\n",
      "Evaluation progress: 64 %\n",
      "Evaluation progress: 66 %\n",
      "Evaluation progress: 67 %\n",
      "Evaluation progress: 69 %\n",
      "Evaluation progress: 71 %\n",
      "Evaluation progress: 72 %\n",
      "Evaluation progress: 74 %\n",
      "Evaluation progress: 76 %\n",
      "Evaluation progress: 77 %\n",
      "Evaluation progress: 79 %\n",
      "Evaluation progress: 81 %\n",
      "Evaluation progress: 83 %\n",
      "Evaluation progress: 84 %\n",
      "Evaluation progress: 86 %\n",
      "Evaluation progress: 88 %\n",
      "Evaluation progress: 89 %\n",
      "Evaluation progress: 91 %\n",
      "Evaluation progress: 93 %\n",
      "Evaluation progress: 94 %\n",
      "Evaluation progress: 96 %\n",
      "Evaluation progress: 98 %\n",
      "Evaluation progress: 100 %\n"
     ]
    },
    {
     "data": {
      "image/png": "[encoded data removed]",
      "text/plain": [
       "<matplotlib.figure.Figure at 0x116fcceb8>"
      ]
     },
     "metadata": {},
     "output_type": "display_data"
    }
   ],
   "source": [
    "para = {'C' : 1, 'kernel' : 'linear', 'gamma' : 'auto' } #parameters of the SVM\n",
    "\n",
    "reducer = SelectKBest(f_classif, 61)\n",
    "feature_dataset_reduced = reducer.fit_transform(feature_dataset_full, labels)\n",
    "\n",
    "performance_assesment_fraction_std(feature_dataset_reduced, labels, 900, para)"
   ]
  },
  {
   "cell_type": "code",
   "execution_count": 101,
   "metadata": {
    "collapsed": false,
    "scrolled": true
   },
   "outputs": [
    {
     "data": {
      "text/plain": [
       "9.0"
      ]
     },
     "execution_count": 101,
     "metadata": {},
     "output_type": "execute_result"
    }
   ],
   "source": [
    "60*0.15"
   ]
  },
  {
   "cell_type": "code",
   "execution_count": 71,
   "metadata": {
    "collapsed": false
   },
   "outputs": [
    {
     "name": "stderr",
     "output_type": "stream",
     "text": [
      "/anaconda/lib/python3.6/site-packages/sklearn/utils/__init__.py:54: FutureWarning: Conversion of the second argument of issubdtype from `int` to `np.signedinteger` is deprecated. In future, it will be treated as `np.int64 == np.dtype(int).type`.\n",
      "  if np.issubdtype(mask.dtype, np.int):\n"
     ]
    },
    {
     "data": {
      "text/plain": [
       "SVC(C=1, cache_size=200, class_weight=None, coef0=0.0,\n",
       "  decision_function_shape='ovr', degree=3, gamma='auto', kernel='linear',\n",
       "  max_iter=-1, probability=False, random_state=None, shrinking=True,\n",
       "  tol=0.001, verbose=False)"
      ]
     },
     "execution_count": 71,
     "metadata": {},
     "output_type": "execute_result"
    }
   ],
   "source": [
    "best_k = 21\n",
    "reducer = SelectKBest(f_classif, best_k)\n",
    "feature_dataset_reduced = reducer.fit_transform(feature_dataset_full, labels)\n",
    "scaler = StandardScaler()\n",
    "feat_std = scaler.fit_transform(feature_dataset_reduced)\n",
    "svc = svm.SVC(C=1, cache_size=200, class_weight=None, coef0=0.0,\n",
    "                    decision_function_shape='ovr', degree=3, gamma='auto', kernel='linear',\n",
    "                    max_iter=-1, probability=False, random_state=None, shrinking=True,\n",
    "                    tol=0.001, verbose=False)\n",
    "svc.fit(feat_std, labels)\n",
    "\n"
   ]
  },
  {
   "cell_type": "code",
   "execution_count": 72,
   "metadata": {
    "collapsed": false
   },
   "outputs": [
    {
     "name": "stdout",
     "output_type": "stream",
     "text": [
      "[-0.22346332  0.64705714  0.26791996  0.7501621  -0.60590376 -0.53728717\n",
      " -0.62941718 -0.1901157   0.24270315 -0.63605794 -0.24940478 -0.11453758\n",
      " -0.29825925 -0.24942546 -0.19540089  0.07638783  0.10676724  0.13472659\n",
      "  0.48237392 -0.76131727  0.30088166]\n"
     ]
    }
   ],
   "source": [
    "coef = svc.coef_\n",
    "print(coef[0])"
   ]
  },
  {
   "cell_type": "code",
   "execution_count": 73,
   "metadata": {
    "collapsed": false
   },
   "outputs": [
    {
     "data": {
      "image/png": "[encoded data removed]",
      "text/plain": [
       "<matplotlib.figure.Figure at 0x11be5f0f0>"
      ]
     },
     "metadata": {},
     "output_type": "display_data"
    }
   ],
   "source": [
    "plt.figure()\n",
    "plt.bar(range(len(coef[0])),coef[0])\n",
    "plt.show()"
   ]
  },
  {
   "cell_type": "code",
   "execution_count": null,
   "metadata": {
    "collapsed": true
   },
   "outputs": [],
   "source": []
  },
  {
   "cell_type": "code",
   "execution_count": null,
   "metadata": {
    "collapsed": true
   },
   "outputs": [],
   "source": []
  }
 ],
 "metadata": {
  "kernelspec": {
   "display_name": "Python 3",
   "language": "python",
   "name": "python3"
  },
  "language_info": {
   "codemirror_mode": {
    "name": "ipython",
    "version": 3
   },
   "file_extension": ".py",
   "mimetype": "text/x-python",
   "name": "python",
   "nbconvert_exporter": "python",
   "pygments_lexer": "ipython3",
   "version": "3.6.0"
  }
 },
 "nbformat": 4,
 "nbformat_minor": 2
}
