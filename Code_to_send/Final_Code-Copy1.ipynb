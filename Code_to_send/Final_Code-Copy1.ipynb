{
 "cells": [
  {
   "cell_type": "markdown",
   "metadata": {},
   "source": [
    "## Import Libraries\n"
   ]
  },
  {
   "cell_type": "code",
   "execution_count": 45,
   "metadata": {
    "collapsed": false
   },
   "outputs": [],
   "source": [
    "import scipy.io as sio\n",
    "import matplotlib.pyplot as plt\n",
    "import numpy as np\n",
    "from sklearn import linear_model, neighbors, datasets\n",
    "from sklearn import svm\n",
    "import scipy.signal as signal\n",
    "import numpy as np\n",
    "from sklearn import svm\n",
    "from sklearn.preprocessing import StandardScaler\n",
    "\n",
    "from sklearn.feature_selection import SelectKBest\n",
    "from sklearn.feature_selection import f_classif\n",
    "from sklearn.model_selection import LeavePOut\n",
    "import warnings\n",
    "warnings.filterwarnings(\"ignore\", category=DeprecationWarning)"
   ]
  },
  {
   "cell_type": "markdown",
   "metadata": {},
   "source": [
    "## Utilities functions for working with the dataset"
   ]
  },
  {
   "cell_type": "code",
   "execution_count": 2,
   "metadata": {
    "collapsed": true
   },
   "outputs": [],
   "source": [
    "def split_matrix_two_blocks(y, percentage1, percentage2, seed):\n",
    "    \"\"\"Build k indices for k-fold.\"\"\"\n",
    "    if(percentage1+percentage2==1):\n",
    "        num_row = len(y)\n",
    "        #print(num_row)\n",
    "        interval_1 = int(percentage1*num_row);\n",
    "        \n",
    "        np.random.seed(seed)\n",
    "        indices = np.random.permutation(num_row);\n",
    "        first_indices = indices[0:interval_1];\n",
    "        second_indices = indices[interval_1:num_row];\n",
    "        return [np.array(first_indices),np.array(second_indices)]\n",
    "    else:\n",
    "        print('>>>>>>>>>>>ERROR:Not valid splitting percentage')\n",
    "        \n",
    "        \n",
    "##\n",
    "## This function reutrn a list of matrices. Each matrix correspond to a question instance in which each row is a channel, and in the coloumn it develop the signal in time\n",
    "## The function also manage to standardize the time length\n",
    "def channels_to_vector(channels): \n",
    "    time_instances=[];\n",
    "    dim=channels.shape;\n",
    "    #find the length min of the signal in the specified temporal instance\n",
    "    length_min=len(channels[0,1]);\n",
    "    for i in range (0,dim[1]):\n",
    "        single_measurement=channels[0,i];\n",
    "        single_length=single_measurement.shape[0]\n",
    "        if(single_length<length_min):\n",
    "                length_min=single_length;\n",
    "    #export the signals\n",
    "    for i in range (0,dim[1]):\n",
    "        single_measurement=channels[0,i];\n",
    "        dim1=single_measurement.shape;\n",
    "        time_instance=[];\n",
    "        for j  in range (0,dim1[1]):\n",
    "            if(len(single_measurement[:,j])>length_min):\n",
    "                single_signal=single_measurement[:,j][0:length_min]\n",
    "            else:\n",
    "                single_signal=single_measurement[:,j]\n",
    "            #put in a list \n",
    "            time_instance.append(np.asarray(single_signal).reshape(len(single_signal),1).T);\n",
    "       # create the matrix of the signals per a single time instance \n",
    "        time_instance=np.concatenate(time_instance);\n",
    "        time_instances.append(time_instance);   \n",
    "    return time_instances;\n",
    "\n",
    "\n",
    "##\n",
    "# Create the train data matrix\n",
    "##\n",
    "## usage\n",
    "def get_feature_matrix_and_labels(channel_structure,label,features_extracted,connectivity_feature):\n",
    "    list_train=[]\n",
    "    list_labels=[]\n",
    "    cont=0;\n",
    "    index_connectivity=0;\n",
    "    list_row=[]\n",
    "    \n",
    "    for time_instance in channel_structure:\n",
    "        dim1=time_instance.shape\n",
    "        #indipendent_components=extract_ICs(time_instance,n_ICA_components);\n",
    "        for j  in range (0,dim1[0]):\n",
    "           \n",
    "            features=features_extracted[cont,:];\n",
    "            list_row.append(features);\n",
    "            cont=cont+1;\n",
    "        \"\"\"feature_dictionary[\"fft_max_frequencies\"]=0;\n",
    "        for single_component in indipendent_components:\n",
    "            features=feature_extraction(single_component,feature_dictionary,features_extracted)\n",
    "            list_row.append(features);\"\"\"\n",
    "        list_row.append(connectivity_feature[index_connectivity,:]);\n",
    "        index_connectivity=index_connectivity+1;\n",
    "        labels=get_labels(1,label);\n",
    "        feature_row=np.concatenate(list_row);\n",
    "        list_train.append(feature_row.reshape(len(feature_row),1).T)\n",
    "        list_labels.append(labels);\n",
    "        list_row=[]\n",
    "        \n",
    "    train_TX=np.concatenate(list_train)\n",
    "    labels=np.concatenate(list_labels,axis=0)\n",
    "    \n",
    "    return train_TX,labels.T.reshape(labels.size)\n",
    "\n",
    "\n",
    "### Description\n",
    "def get_labels(number, string):\n",
    "    if(string==\"No\"):\n",
    "        return np.zeros(number)    \n",
    "    if(string==\"Yes\"):\n",
    "        return np.ones(number)\n",
    "    \n",
    "## description\n",
    "def select_features(weights,matrix,th):\n",
    "    cont=0;\n",
    "    i=0;\n",
    "    while(cont<len(weights)):\n",
    "        if(weights[cont]<th):\n",
    "\n",
    "            mask = np.ones(matrix.shape[1], dtype=bool)\n",
    "            mask[i] = False\n",
    "            matrix=matrix[:,mask]\n",
    "        else:\n",
    "            i=i+1;\n",
    "        cont=cont+1;\n",
    "    return matrix\n",
    "\n",
    "\n",
    "def get_accuracy(predicted_labels, true_labels):\n",
    "     if (predicted_labels.size == true_labels.size):\n",
    "        return  np.sum(predicted_labels ==  true_labels )/len( true_labels)"
   ]
  },
  {
   "cell_type": "markdown",
   "metadata": {},
   "source": [
    "## EEG feature loading\n",
    "\n",
    "Import data from previous analysis\n"
   ]
  },
  {
   "cell_type": "code",
   "execution_count": 3,
   "metadata": {
    "collapsed": false
   },
   "outputs": [
    {
     "name": "stdout",
     "output_type": "stream",
     "text": [
      "The dataset have shape:\n",
      "(60, 386)\n"
     ]
    }
   ],
   "source": [
    "#Import data from mat files\n",
    "yes_EEG_contents = sio.loadmat('EEGyes.mat')\n",
    "no_EEG_contents = sio.loadmat('EEGno.mat')\n",
    "\n",
    "channels_no_EEG=no_EEG_contents[\"EEGno\"]\n",
    "channels_yes_EEG=yes_EEG_contents[\"EEGyes\"]\n",
    "\n",
    "#Features Loading\n",
    "features_extracted_yes   = sio.loadmat('FeaturesYes.mat')['FeaturesYes']\n",
    "features_extracted_no    = sio.loadmat('FeaturesNO.mat')['FeaturesNo']\n",
    "connectivity_feature_yes = sio.loadmat('ConnectivityFeaturesYes.mat')['ConnectivityFeaturesYes']\n",
    "connectivity_feature_no  = sio.loadmat('ConnectivityFeaturesNo.mat')['ConnectivityFeaturesNo']\n",
    "\n",
    "channels_structure_yes_EEG = channels_to_vector(channels_yes_EEG)\n",
    "channels_structure_no_EEG  = channels_to_vector(channels_no_EEG)\n",
    "\n",
    "##Structuring of the data:\n",
    "#the code below create the train matrix with respect to the signal given in \"channel_structure\" but using the features contained in \"features_extracted*\" and in \"connettivity_feature*\".\n",
    "feature_dataset_yes_EEG, EEG_yes_labels = get_feature_matrix_and_labels(channels_structure_yes_EEG,\"Yes\",features_extracted_yes,connectivity_feature_yes);\n",
    "\n",
    "feature_dataset_no_EEG, EEG_no_labels = get_feature_matrix_and_labels(channels_structure_no_EEG,\"No\",features_extracted_no,connectivity_feature_no);\n",
    "\n",
    "#Merge the labeled data\n",
    "feature_dataset_full = np.concatenate((feature_dataset_yes_EEG, feature_dataset_no_EEG), axis=0 )\n",
    "labels = np.concatenate((EEG_yes_labels,EEG_no_labels), axis=0)\n",
    "\n",
    "\n",
    "print(\"The dataset have shape:\")\n",
    "print(feature_dataset_full.shape)"
   ]
  },
  {
   "cell_type": "markdown",
   "metadata": {},
   "source": [
    "## Leave One Out "
   ]
  },
  {
   "cell_type": "code",
   "execution_count": 5,
   "metadata": {
    "collapsed": true
   },
   "outputs": [],
   "source": [
    "def get_accuracy(predicted_labels, true_labels):\n",
    "     if (predicted_labels.size == true_labels.size):\n",
    "        return  np.sum(predicted_labels ==  true_labels)/len(predicted_labels)\n",
    "    \n",
    "def get_accuracy_std(predicted_labels, true_labels):\n",
    "     if (predicted_labels.size == true_labels.size):\n",
    "        return  np.sum(predicted_labels ==  true_labels)\n",
    "    \n",
    "def leave_one_out(X, Y, classifier):\n",
    "    svm_total_acc_test = []\n",
    "    for i in range(X.shape[0]):\n",
    "#SVM classifier definition\n",
    "        i1 = [j for j in range(X.shape[0])]\n",
    "        i1.remove(i)\n",
    "        i2 = i\n",
    "        train=X[i1,:]\n",
    "        labels_train=Y[i1]\n",
    "\n",
    "        test= X[i2,:]\n",
    "        labels_test=Y[i2]\n",
    "        clf_temp = classifier\n",
    "        clf_temp.fit(train, labels_train)  \n",
    "\n",
    "        #Accuracy on test\n",
    "        predicted_labels_test = clf_temp.predict(test)\n",
    "        SVM_accuracy_test = get_accuracy(predicted_labels_test, labels_test)\n",
    "        svm_total_acc_test.append(SVM_accuracy_test)\n",
    "\n",
    "    return(np.mean(svm_total_acc_test))\n",
    "\n",
    "\n",
    "def leave_one_out_std(X, Y, classifier):\n",
    "    svm_total_acc_test = []\n",
    "    for i in range(X.shape[0]):\n",
    "        \n",
    "#SVM classifier definition\n",
    "        i1 = [j for j in range(X.shape[0])]\n",
    "        i1.remove(i)\n",
    "        i2 = i\n",
    "        train=X[i1,:]\n",
    "        labels_train=Y[i1]\n",
    "\n",
    "        test = X[i2,:]\n",
    "        labels_test=Y[i2]\n",
    "        \n",
    "        scaler = StandardScaler()\n",
    "        scaler.fit(train)\n",
    "        train = scaler.transform(train)\n",
    "        test = scaler.transform(test)\n",
    "        \n",
    "        \n",
    "        clf_temp = classifier\n",
    "        clf_temp.fit(train, labels_train)  \n",
    "        \n",
    "        #Accuracy on test\n",
    "        predicted_labels_test = clf_temp.predict(test)\n",
    "        SVM_accuracy_test = get_accuracy_std(predicted_labels_test, labels_test)\n",
    "        svm_total_acc_test.append(SVM_accuracy_test)\n",
    "\n",
    "    return(np.mean(svm_total_acc_test))\n",
    "\n",
    "\n",
    "def leave_two_out(X, Y, classifier):\n",
    "    svm_total_acc_test = []\n",
    "    for i in range(X.shape[0]):\n",
    "        for l in range(X.shape[0]):\n",
    "            if(i!=l):\n",
    "                #scaler = StandardScaler()\n",
    "        #SVM classifier definition\n",
    "                i1 = [j for j in range(X.shape[0])]\n",
    "                i1.remove(i)\n",
    "                i2 = i\n",
    "                train=X[i1,:]\n",
    "                labels_train=Y[i1]\n",
    "\n",
    "                test = X[i2,:]\n",
    "                labels_test=Y[i2]\n",
    "\n",
    "\n",
    "                #scaler.fit(train)\n",
    "                #train = scaler.transform(train)\n",
    "                #test = scaler.transform(test)\n",
    "\n",
    "\n",
    "                clf_temp = classifier\n",
    "                clf_temp.fit(train, labels_train)  \n",
    "\n",
    "                #Accuracy on test\n",
    "                predicted_labels_test = clf_temp.predict(test)\n",
    "                SVM_accuracy_test = get_accuracy(predicted_labels_test, labels_test)\n",
    "                svm_total_acc_test.append(SVM_accuracy_test)\n",
    "\n",
    "    return(np.mean(svm_total_acc_test))\n",
    "\n",
    "def leave_two_out_sci(X, Y, classifier):\n",
    "    svm_total_acc_test = []\n",
    "    lpo = LeavePOut(2)\n",
    "    \n",
    "    for train_index, test_index in lpo.split(X):\n",
    "        #print(\"TRAIN:\", train_index, \"TEST:\", test_index)\n",
    "        X_train, X_test = X[train_index], X[test_index]\n",
    "        y_train, y_test = Y[train_index], Y[test_index]\n",
    "                #scaler = StandardScaler()\n",
    "        \n",
    "        clf_temp = classifier\n",
    "        clf_temp.fit(X_train, y_train)  \n",
    "\n",
    "                #Accuracy on test\n",
    "        predicted_labels_test = clf_temp.predict(X_test)\n",
    "        SVM_accuracy_test = get_accuracy(predicted_labels_test, y_test)\n",
    "        svm_total_acc_test.append(SVM_accuracy_test)\n",
    "\n",
    "    return(np.mean(svm_total_acc_test))\n",
    "\n"
   ]
  },
  {
   "cell_type": "code",
   "execution_count": null,
   "metadata": {
    "collapsed": true
   },
   "outputs": [],
   "source": []
  },
  {
   "cell_type": "markdown",
   "metadata": {},
   "source": [
    "## Exploration of the best number of features\n",
    "\n",
    "Only the top-k features that have the best ANOVA F-test Score are retained.\n",
    "An hard-margin (C=1) SVM linear classifier is trained and its performances assessed with a full search leave-one-out\n",
    "\n",
    "Might require some computational time (spoiler: best k seems to be 21)"
   ]
  },
  {
   "cell_type": "code",
   "execution_count": 94,
   "metadata": {
    "collapsed": false,
    "scrolled": true
   },
   "outputs": [
    {
     "name": "stdout",
     "output_type": "stream",
     "text": [
      "progress: 0.33333333333333337 %\n"
     ]
    },
    {
     "name": "stderr",
     "output_type": "stream",
     "text": [
      "/anaconda/lib/python3.6/site-packages/sklearn/utils/__init__.py:54: FutureWarning: Conversion of the second argument of issubdtype from `int` to `np.signedinteger` is deprecated. In future, it will be treated as `np.int64 == np.dtype(int).type`.\n",
      "  if np.issubdtype(mask.dtype, np.int):\n"
     ]
    },
    {
     "name": "stdout",
     "output_type": "stream",
     "text": [
      "progress: 0.6666666666666667 %\n",
      "progress: 1.0 %\n",
      "progress: 1.3333333333333335 %\n",
      "progress: 1.6666666666666667 %\n",
      "progress: 2.0 %\n",
      "progress: 2.3333333333333335 %\n",
      "progress: 2.666666666666667 %\n",
      "progress: 3.0 %\n",
      "progress: 3.3333333333333335 %\n",
      "progress: 3.6666666666666665 %\n",
      "smallest k that gives best Leave-one-out results:\n",
      "1\n",
      "\n",
      "wich have lead to the top performance:\n",
      "0.9731638418079096\n",
      "\n",
      "index of features retained:\n",
      "[292]\n"
     ]
    }
   ],
   "source": [
    "tot_perf = []\n",
    "end_feat = 100\n",
    "for k in range(1,end_feat):\n",
    "    print('progress: ' + str(k/300*100) + ' %')\n",
    "    reducer = SelectKBest(f_classif, k)\n",
    "    \n",
    "    scaler2= StandardScaler()\n",
    "    feat_std = scaler2.fit_transform(feature_dataset_full)\n",
    "    feature_dataset_reduced = reducer.fit_transform(feat_std, labels)\n",
    "    svc = svm.SVC(C=1, cache_size=200, class_weight=None, coef0=0.0,\n",
    "            decision_function_shape='ovr', degree=3, gamma='auto', kernel='linear',\n",
    "            max_iter=-1, probability=False, random_state=None, shrinking=True,\n",
    "            tol=0.001, verbose=False)\n",
    "    perf_temp = leave_two_out_sci(feat_std, labels, svc)\n",
    "    tot_perf.append(perf_temp)\n",
    "\n",
    "best_k = np.argmax(tot_perf)+1\n",
    "print(\"smallest k that gives best Leave-one-out results:\")\n",
    "print(best_k)\n",
    "print()\n",
    "print(\"wich have lead to the top performance:\")\n",
    "print(np.max(tot_perf))\n",
    "\n",
    "\n",
    "#What are those features?\n",
    "reducer = SelectKBest(f_classif, best_k)\n",
    "feature_dataset_reduced = reducer.fit_transform(feature_dataset_full, labels)\n",
    "boolean_vec = reducer.get_support()\n",
    "idx =[]\n",
    "for i in range(len(boolean_vec)): \n",
    "    if boolean_vec[i] == True: idx.append(i)\n",
    "print()\n",
    "print(\"index of features retained:\")\n",
    "print(idx)"
   ]
  },
  {
   "cell_type": "markdown",
   "metadata": {},
   "source": [
    "### Print of the results"
   ]
  },
  {
   "cell_type": "code",
   "execution_count": 83,
   "metadata": {
    "collapsed": false
   },
   "outputs": [
    {
     "name": "stdout",
     "output_type": "stream",
     "text": [
      "smallest k that gives best Leave-one-out results:\n",
      "1\n",
      "\n",
      "wich have lead to the top performance:\n",
      "0.9666666666666667\n",
      "\n",
      "index of features retained:\n",
      "[292]\n"
     ]
    },
    {
     "name": "stderr",
     "output_type": "stream",
     "text": [
      "/anaconda/lib/python3.6/site-packages/sklearn/utils/__init__.py:54: FutureWarning: Conversion of the second argument of issubdtype from `int` to `np.signedinteger` is deprecated. In future, it will be treated as `np.int64 == np.dtype(int).type`.\n",
      "  if np.issubdtype(mask.dtype, np.int):\n"
     ]
    }
   ],
   "source": [
    "best_k = np.argmax(tot_perf)+1\n",
    "print(\"smallest k that gives best Leave-one-out results:\")\n",
    "print(best_k)\n",
    "print()\n",
    "print(\"wich have lead to the top performance:\")\n",
    "print(np.max(tot_perf))\n",
    "\n",
    "\n",
    "#What are those features?\n",
    "reducer = SelectKBest(f_classif, best_k)\n",
    "feature_dataset_reduced = reducer.fit_transform(feature_dataset_full, labels)\n",
    "boolean_vec = reducer.get_support()\n",
    "idx =[]\n",
    "for i in range(len(boolean_vec)): \n",
    "    if boolean_vec[i] == True: idx.append(i)\n",
    "print()\n",
    "print(\"index of features retained:\")\n",
    "print(idx)"
   ]
  },
  {
   "cell_type": "code",
   "execution_count": 95,
   "metadata": {
    "collapsed": false
   },
   "outputs": [
    {
     "name": "stdout",
     "output_type": "stream",
     "text": [
      "[0.9731638418079096, 0.9731638418079096, 0.9731638418079096, 0.9731638418079096, 0.9731638418079096, 0.9731638418079096, 0.9731638418079096, 0.9731638418079096, 0.9731638418079096, 0.9731638418079096, 0.9731638418079096]\n"
     ]
    }
   ],
   "source": [
    "print(tot_perf)"
   ]
  },
  {
   "cell_type": "markdown",
   "metadata": {},
   "source": [
    "# Evaluation of performances with varying size train/test\n",
    "\n",
    "Definition of utilities functions"
   ]
  },
  {
   "cell_type": "code",
   "execution_count": 69,
   "metadata": {
    "collapsed": true
   },
   "outputs": [],
   "source": [
    "def classification_SVM_experiments(X, Y, classifier, fraction_train_test, num_experiments):\n",
    "    \n",
    "    seed=range(num_experiments)\n",
    "    svm_total_acc_test  = []\n",
    "    svm_total_acc_train = [] \n",
    "    dataset_length=X.shape[0];\n",
    "    \n",
    "    for single_seed in seed:\n",
    "        [i1,i2]=split_matrix_two_blocks(X, fraction_train_test, 1-fraction_train_test,single_seed)\n",
    "        \n",
    "        train =X[i1,:]\n",
    "        labels_train=Y[i1]\n",
    "        \n",
    "        test = X[i2,:]\n",
    "        labels_test=Y[i2]\n",
    "        \n",
    "        \n",
    "        clf = classifier\n",
    "        #SVM fit on train data\n",
    "        clf.fit(train, labels_train)  \n",
    "        #print(test.shape)\n",
    "        #print(labels_test.shape)\n",
    "        \n",
    "        #Accuracy on test\n",
    "        predicted_labels_test = clf.predict(test)\n",
    "        SVM_accuracy_test = get_accuracy(predicted_labels_test, labels_test)\n",
    "        svm_total_acc_test.append(SVM_accuracy_test)\n",
    "        \n",
    "        \n",
    "        #Accuracy on train\n",
    "        predicted_labels_train = clf.predict(train)\n",
    "        SVM_accuracy_train = get_accuracy(predicted_labels_train, labels_train)\n",
    "        svm_total_acc_train.append(SVM_accuracy_train)\n",
    "        #print(\"Accuracy: \"+ str(SVM_accuracy) + \"; iteration  \" + str(single_seed) )\n",
    "    return svm_total_acc_test, svm_total_acc_train\n",
    "\n",
    "\n",
    "def classification_SVM_experiments_std(X, Y, classifier, fraction_train_test, num_experiments):\n",
    "    \n",
    "    seed=range(num_experiments)\n",
    "    svm_total_acc_test  = []\n",
    "    svm_total_acc_train = [] \n",
    "    dataset_length=X.shape[0];\n",
    "    \n",
    "    for single_seed in seed:\n",
    "        scaler = StandardScaler()\n",
    "        \n",
    "        [i1,i2]=split_matrix_two_blocks(X, fraction_train_test, 1-fraction_train_test,single_seed)\n",
    "        \n",
    "        \n",
    "        train =X[i1,:]\n",
    "        labels_train=Y[i1]\n",
    "        \n",
    "        test = X[i2,:]\n",
    "        labels_test=Y[i2]\n",
    "        \n",
    "        scaler.fit(train)\n",
    "        train = scaler.transform(train)\n",
    "        test = scaler.transform(test)\n",
    "        \n",
    "        \n",
    "        clf = classifier\n",
    "        #SVM fit on train data\n",
    "        clf.fit(train, labels_train)  \n",
    "        #print(test.shape)\n",
    "        #print(labels_test.shape)\n",
    "        \n",
    "        #Accuracy on test\n",
    "        predicted_labels_test = clf.predict(test)\n",
    "        SVM_accuracy_test = get_accuracy(predicted_labels_test, labels_test)\n",
    "        svm_total_acc_test.append(SVM_accuracy_test)\n",
    "        \n",
    "        \n",
    "        #Accuracy on train\n",
    "        predicted_labels_train = clf.predict(train)\n",
    "        SVM_accuracy_train = get_accuracy(predicted_labels_train, labels_train)\n",
    "        svm_total_acc_train.append(SVM_accuracy_train)\n",
    "        #print(\"Accuracy: \"+ str(SVM_accuracy) + \"; iteration  \" + str(single_seed) )\n",
    "    return svm_total_acc_test, svm_total_acc_train\n",
    "\n",
    "def performance_assesment_fraction(X, Y, num_experiment, classifier):\n",
    "    fracs = np.linspace(0.2,0.9,25)\n",
    "    accuracy_test_mean  = []\n",
    "    accuracy_test_std   = []\n",
    "    accuracy_train_mean = []\n",
    "    accuracy_train_std  = []\n",
    "\n",
    "    for frac_tr_te in fracs:\n",
    "        print(\"Evaluation progress: \" + str(int((frac_tr_te-fracs[0])/(fracs[-1]-fracs[0])*100)) + \" %\")\n",
    "        acc_test, acc_train = classification_SVM_experiments(X, Y, classifier, frac_tr_te, num_experiment)\n",
    "        #saving of metrics of interest\n",
    "        accuracy_test_mean.append(np.mean(acc_test))\n",
    "        accuracy_test_std.append(np.std(acc_test))\n",
    "        accuracy_train_mean.append(np.mean(acc_train))\n",
    "        accuracy_train_std.append(np.std(acc_train))\n",
    "\n",
    "    #plot the figure\n",
    "    plt.figure(figsize=(10, 7), dpi=80)\n",
    "    plt.errorbar(fracs, accuracy_test_mean, yerr=accuracy_test_std, label=\"Error bars plot\", fmt=\"s-\",  linewidth=3)\n",
    "    plt.errorbar(fracs, accuracy_train_mean, yerr=accuracy_train_std, label=\"Error bars plot\", fmt=\"s-\",  linewidth=3)\n",
    "    plt.grid(b=True, which='major', color='k', linestyle='--', alpha = 0.4)\n",
    "    plt.minorticks_on()\n",
    "    plt.title('SVM perfomances over different train/test dataset of reduced features')\n",
    "    plt.ylabel('Accuracy')\n",
    "    plt.xlabel('Train/test fraction')\n",
    "\n",
    "    plt.legend(['Test Accuracy', 'Train Accuracy'], loc=4)\n",
    "    plt.savefig('train_test_acc_fine_tuned2.eps', format='eps')\n",
    "    plt.show()\n",
    "    \n",
    "def performance_assesment_fraction_std(X, Y, num_experiment, classifier):\n",
    "    fracs = np.linspace(0.2,0.9,25)\n",
    "    accuracy_test_mean  = []\n",
    "    accuracy_test_std   = []\n",
    "    accuracy_train_mean = []\n",
    "    accuracy_train_std  = []\n",
    "\n",
    "    for frac_tr_te in fracs:\n",
    "        print(\"Evaluation progress: \" + str(int((frac_tr_te-fracs[0])/(fracs[-1]-fracs[0])*100)) + \" %\")\n",
    "        acc_test, acc_train = classification_SVM_experiments_std(X, Y, classifier, frac_tr_te, num_experiment)\n",
    "        #saving of metrics of interest\n",
    "        accuracy_test_mean.append(np.mean(acc_test))\n",
    "        accuracy_test_std.append(np.std(acc_test))\n",
    "        accuracy_train_mean.append(np.mean(acc_train))\n",
    "        accuracy_train_std.append(np.std(acc_train))\n",
    "\n",
    "    #plot the figure\n",
    "    plt.figure(figsize=(10, 7), dpi=80)\n",
    "    plt.errorbar(np.floor(fracs*60), accuracy_test_mean, yerr=accuracy_test_std, label=\"Error bars plot\", fmt=\"s-\",  linewidth=3)\n",
    "    plt.errorbar(np.floor(fracs*60), accuracy_train_mean, yerr=accuracy_train_std, label=\"Error bars plot\", fmt=\"s-\",  linewidth=3)\n",
    "    plt.grid(b=True, which='major', color='k', linestyle='--', alpha = 0.4)\n",
    "    plt.minorticks_on()\n",
    "    plt.title('SVM perfomances over different train/test dataset of reduced features')\n",
    "    plt.ylabel('Accuracy')\n",
    "    plt.xlabel('Train instances considered')\n",
    "\n",
    "    plt.legend(['Test Accuracy', 'Train Accuracy'], loc=4)\n",
    "    plt.savefig('train_test_acc_fine_tuned2.eps', format='eps')\n",
    "    plt.show()"
   ]
  },
  {
   "cell_type": "markdown",
   "metadata": {},
   "source": [
    "# Extra Tree Classifierz"
   ]
  },
  {
   "cell_type": "code",
   "execution_count": 19,
   "metadata": {
    "collapsed": false
   },
   "outputs": [
    {
     "name": "stderr",
     "output_type": "stream",
     "text": [
      "/anaconda/lib/python3.6/site-packages/sklearn/utils/__init__.py:54: FutureWarning: Conversion of the second argument of issubdtype from `int` to `np.signedinteger` is deprecated. In future, it will be treated as `np.int64 == np.dtype(int).type`.\n",
      "  if np.issubdtype(mask.dtype, np.int):\n"
     ]
    },
    {
     "name": "stdout",
     "output_type": "stream",
     "text": [
      "Evaluation progress: 0 %\n",
      "Evaluation progress: 4 %\n",
      "Evaluation progress: 8 %\n",
      "Evaluation progress: 12 %\n",
      "Evaluation progress: 16 %\n",
      "Evaluation progress: 20 %\n",
      "Evaluation progress: 25 %\n",
      "Evaluation progress: 29 %\n",
      "Evaluation progress: 33 %\n",
      "Evaluation progress: 37 %\n",
      "Evaluation progress: 41 %\n",
      "Evaluation progress: 45 %\n",
      "Evaluation progress: 50 %\n",
      "Evaluation progress: 54 %\n",
      "Evaluation progress: 58 %\n",
      "Evaluation progress: 62 %\n",
      "Evaluation progress: 66 %\n",
      "Evaluation progress: 70 %\n",
      "Evaluation progress: 74 %\n",
      "Evaluation progress: 79 %\n",
      "Evaluation progress: 83 %\n",
      "Evaluation progress: 87 %\n",
      "Evaluation progress: 91 %\n",
      "Evaluation progress: 95 %\n",
      "Evaluation progress: 100 %\n"
     ]
    },
    {
     "data": {
      "image/png": "[encoded data removed]",
      "text/plain": [
       "<matplotlib.figure.Figure at 0x116099080>"
      ]
     },
     "metadata": {},
     "output_type": "display_data"
    }
   ],
   "source": [
    "from sklearn.ensemble import ExtraTreesClassifier\n",
    "\n",
    "reducer = SelectKBest(f_classif, 61)\n",
    "feature_dataset_reduced = reducer.fit_transform(feature_dataset_full, labels)\n",
    "\n",
    "X = feature_dataset_reduced\n",
    "Y = labels\n",
    "num_experiment = 50\n",
    "\n",
    "#extra_tree = ExtraTreesClassifier()\n",
    "extra_tree = ExtraTreesClassifier(n_estimators=100, max_features=None)\n",
    "\n",
    "performance_assesment_fraction(X, Y, num_experiment, extra_tree)"
   ]
  },
  {
   "cell_type": "code",
   "execution_count": 24,
   "metadata": {
    "collapsed": false,
    "scrolled": true
   },
   "outputs": [],
   "source": [
    "from sklearn.ensemble import ExtraTreesClassifier\n",
    "\n",
    "X = feature_dataset_full\n",
    "Y = labels\n",
    "num_experiment = 50\n",
    "\n",
    "#extra_tree = ExtraTreesClassifier()\n",
    "extra_tree = ExtraTreesClassifier(n_estimators=10000, max_features=None, n_jobs=3)\n",
    "extra_tree.fit(X, Y)\n",
    "\n",
    "feat_import = extra_tree.feature_importances_\n",
    "#print(feat_import)\n"
   ]
  },
  {
   "cell_type": "code",
   "execution_count": 29,
   "metadata": {
    "collapsed": false,
    "scrolled": true
   },
   "outputs": [
    {
     "data": {
      "image/png": "[encoded data removed]",
      "text/plain": [
       "<matplotlib.figure.Figure at 0x11635d400>"
      ]
     },
     "metadata": {},
     "output_type": "display_data"
    },
    {
     "data": {
      "image/png": "[encoded data removed]",
      "text/plain": [
       "<matplotlib.figure.Figure at 0x116b3d5f8>"
      ]
     },
     "metadata": {},
     "output_type": "display_data"
    },
    {
     "data": {
      "image/png": "[encoded data removed]",
      "text/plain": [
       "<matplotlib.figure.Figure at 0x116bad048>"
      ]
     },
     "metadata": {},
     "output_type": "display_data"
    }
   ],
   "source": [
    "plt.figure()\n",
    "plt.bar(range(len(feat_import)),feat_import)\n",
    "plt.show()"
   ]
  },
  {
   "cell_type": "code",
   "execution_count": 43,
   "metadata": {
    "collapsed": false
   },
   "outputs": [
    {
     "name": "stdout",
     "output_type": "stream",
     "text": [
      "[125 163 151 327 109 155 331 229   0 364 299  59  64 211 335 360 167 355\n",
      " 174 359  73 372  68 220 281  12 203 311  77 376  56 183  72 221 113 303\n",
      " 204   4 384 353 199 297 188 129 170  48 382 285 184 233 347 148 133 152\n",
      " 187 102 348  60 264  32  28 166  57 178 380 105 345 269  85 329 351 180\n",
      " 308 196  61  36 333   9  16  20  94 159 294 301 373 279 273 289  81 160\n",
      "  63 247 383  43 171 257 293  90  44  13 117  52 315 378   7 225 144 381\n",
      " 157 295  65  54 324 349   8 114   3 241 317 332  19 202 323 251 186  30\n",
      " 249  37  50 140 328 309 226   2  42 325  33 367 319  49 265 243 205 344\n",
      " 352 356 245  41 313  34 116 207 127 100  10 261  80  79   1   6 103 379\n",
      " 208 177 156 176 266 182 267 362 123 238  53 198 338 162  38 374 253 179\n",
      " 277 195 108  23 135  84 190   5 290  69 326 341  29 286 124  99 242 234\n",
      " 131  88 200 366 132  24 142 363 222 107 250 185  87 232 330 181 126 219\n",
      " 385 112 371 377 300  17 270 370 334 343  89 137 101 191 339 111  31 246\n",
      " 254 194 210 104 278 239  55 296  75 197 346 138  40  35 209 236 302 168\n",
      " 307 206 252  95 337 147 121 146 263  86  21 258 172 274 322  83  11 368\n",
      "  51 149  27 154 215 369  78  25 237 268  15 145 375  91 306 201 141 164\n",
      "  97 357  47 150 342  96  74 314  39 275  93 212 189 227  14 282 248 316\n",
      " 175 130 161  76 318  92 217 240 214  58 231 312  22 283 235 118 216 153\n",
      " 350 340 305 298 336 230 110  26 122 244 106 358  62 192  46 361  70 223\n",
      " 321 143  18 158  98 128 256 218 139 193  82 284 259 365 260 213 354 272\n",
      "  71 262 228 224 271 255 134 280 276  67  45 310 120  66 165 173 119 304\n",
      " 291 169 320 287 288 292 115 136]\n"
     ]
    }
   ],
   "source": [
    "\n",
    "features_tree = np.argsort(feat_import)\n",
    "print(features_tree)\n",
    "def get_k_feat_tree(k, data):\n",
    "    idxs = features_tree[:k]\n",
    "    idxs_sorted = np.sort(idxs)\n",
    "    data_reduced = data[:,idxs_sorted]\n",
    "    \n",
    "    return data_reduced\n",
    "    "
   ]
  },
  {
   "cell_type": "code",
   "execution_count": 42,
   "metadata": {
    "collapsed": false
   },
   "outputs": [
    {
     "data": {
      "text/plain": [
       "array([[13.54031404, 14.76834761, 16.82400054],\n",
       "       [14.21639598, 13.977724  , 17.46639409],\n",
       "       [ 1.71303999,  6.39059792,  8.39296653],\n",
       "       [ 1.50350842,  4.73568256,  5.62214252],\n",
       "       [16.70726222, 13.84190687, 15.80826638],\n",
       "       [16.07853006, 12.60705745, 16.33915732],\n",
       "       [ 5.23500291,  9.07115714, 10.49632546],\n",
       "       [ 5.06269589,  8.40528373,  9.12571421],\n",
       "       [ 2.60174594,  7.21454665,  9.90178493],\n",
       "       [ 2.88018486,  6.56168963,  8.30465457],\n",
       "       [ 4.21305296,  7.22247915,  7.69068059],\n",
       "       [ 3.40062311,  7.357     ,  8.54725417],\n",
       "       [ 2.87786169,  6.22106907,  7.05289469],\n",
       "       [ 2.73693772,  6.90228436,  7.73939298],\n",
       "       [ 1.74929024,  6.34407056,  6.94566686],\n",
       "       [ 1.51625767,  5.73383084,  8.06302274],\n",
       "       [ 3.32296824,  6.89988651,  8.50927228],\n",
       "       [ 3.32365296,  6.44329948,  7.00090609],\n",
       "       [ 1.88842795,  5.61321635,  6.67072753],\n",
       "       [ 1.7233625 ,  5.9181767 ,  7.93374336],\n",
       "       [ 1.70279807,  5.80727713,  7.22665543],\n",
       "       [ 1.49395125,  4.73152126,  5.61621453],\n",
       "       [ 2.1159392 ,  6.17442752,  7.63682971],\n",
       "       [ 2.26986889,  6.02915175,  7.3918945 ],\n",
       "       [ 2.99919843,  7.13678643,  7.7704619 ],\n",
       "       [ 3.12999971,  7.39896179, 10.67507631],\n",
       "       [ 1.9040849 ,  6.56582061,  8.22444619],\n",
       "       [ 1.75954194,  5.75648464,  6.64080299],\n",
       "       [ 3.56381261,  7.33809507,  8.34720649],\n",
       "       [ 3.55605068,  7.15703779,  8.45822615],\n",
       "       [12.74767435, 14.48066595, 17.38169131],\n",
       "       [14.26341099, 11.12672838, 16.19966956],\n",
       "       [11.61174163, 12.54041396, 15.6326371 ],\n",
       "       [ 3.59438561, 13.46259739, 17.36774842],\n",
       "       [16.67697593, 13.84253083, 14.89780975],\n",
       "       [13.75329805,  4.94006762,  5.52939303],\n",
       "       [ 5.15303347,  9.31847308, 11.37110884],\n",
       "       [ 4.62047598,  8.18396579,  9.57320115],\n",
       "       [ 4.87289887,  7.83747707,  9.45716014],\n",
       "       [ 2.4683222 ,  8.98705762, 10.96215331],\n",
       "       [ 4.16936486,  7.40023963,  9.14019524],\n",
       "       [ 3.2283616 ,  5.90630756,  6.9085169 ],\n",
       "       [ 3.49267253,  7.44720956,  9.00483802],\n",
       "       [ 2.70982472,  5.36091215,  6.7876286 ],\n",
       "       [ 2.90772997,  6.79282981,  7.48955749],\n",
       "       [ 1.60010276,  6.76592259,  8.52248615],\n",
       "       [ 3.14435822,  7.0022632 ,  7.45233749],\n",
       "       [ 3.08841092,  4.90385166,  6.8188406 ],\n",
       "       [ 2.30688734,  6.64385081,  7.92931936],\n",
       "       [ 2.03886578,  5.49714596,  5.74686591],\n",
       "       [ 2.39791497,  6.13255225,  7.67188117],\n",
       "       [ 1.23612678,  5.9591254 ,  8.06696346],\n",
       "       [ 2.17564192,  5.91747617,  6.51999896],\n",
       "       [ 2.12152132,  4.53622028,  5.59633781],\n",
       "       [ 3.3482077 ,  7.82364157,  9.43068836],\n",
       "       [ 3.15626008,  5.93400633,  7.27406954],\n",
       "       [ 3.24742073,  7.47222198,  9.42945954],\n",
       "       [ 1.56247773,  7.32888551,  8.39369469],\n",
       "       [ 3.6193168 ,  7.05954979,  7.44865495],\n",
       "       [ 3.13791933,  5.0312347 ,  6.1854622 ]])"
      ]
     },
     "execution_count": 42,
     "metadata": {},
     "output_type": "execute_result"
    }
   ],
   "source": [
    "get_k_feat_tree(3, feature_dataset_full)"
   ]
  },
  {
   "cell_type": "code",
   "execution_count": 56,
   "metadata": {
    "collapsed": false,
    "scrolled": true
   },
   "outputs": [
    {
     "name": "stdout",
     "output_type": "stream",
     "text": [
      "progress: 1.0 %\n",
      "progress: 2.0 %\n",
      "progress: 3.0 %\n",
      "progress: 4.0 %\n",
      "progress: 5.0 %\n",
      "progress: 6.0 %\n",
      "progress: 7.000000000000001 %\n",
      "progress: 8.0 %\n",
      "progress: 9.0 %\n",
      "progress: 10.0 %\n",
      "progress: 11.0 %\n",
      "progress: 12.0 %\n",
      "progress: 13.0 %\n",
      "progress: 14.000000000000002 %\n",
      "progress: 15.0 %\n",
      "progress: 16.0 %\n",
      "progress: 17.0 %\n",
      "progress: 18.0 %\n",
      "progress: 19.0 %\n",
      "progress: 20.0 %\n",
      "progress: 21.0 %\n",
      "progress: 22.0 %\n",
      "progress: 23.0 %\n",
      "progress: 24.0 %\n",
      "progress: 25.0 %\n",
      "progress: 26.0 %\n",
      "progress: 27.0 %\n",
      "progress: 28.000000000000004 %\n",
      "progress: 28.999999999999996 %\n",
      "progress: 30.0 %\n",
      "progress: 31.0 %\n",
      "progress: 32.0 %\n",
      "progress: 33.0 %\n",
      "progress: 34.0 %\n",
      "progress: 35.0 %\n",
      "progress: 36.0 %\n",
      "progress: 37.0 %\n",
      "progress: 38.0 %\n",
      "progress: 39.0 %\n",
      "progress: 40.0 %\n",
      "progress: 41.0 %\n",
      "progress: 42.0 %\n",
      "progress: 43.0 %\n",
      "progress: 44.0 %\n",
      "progress: 45.0 %\n",
      "progress: 46.0 %\n",
      "progress: 47.0 %\n",
      "progress: 48.0 %\n",
      "progress: 49.0 %\n",
      "progress: 50.0 %\n",
      "progress: 51.0 %\n",
      "progress: 52.0 %\n",
      "progress: 53.0 %\n",
      "progress: 54.0 %\n",
      "progress: 55.00000000000001 %\n",
      "progress: 56.00000000000001 %\n",
      "progress: 56.99999999999999 %\n",
      "progress: 57.99999999999999 %\n",
      "progress: 59.0 %\n",
      "progress: 60.0 %\n",
      "progress: 61.0 %\n",
      "progress: 62.0 %\n",
      "progress: 63.0 %\n",
      "progress: 64.0 %\n",
      "progress: 65.0 %\n",
      "progress: 66.0 %\n",
      "progress: 67.0 %\n",
      "progress: 68.0 %\n",
      "progress: 69.0 %\n",
      "progress: 70.0 %\n",
      "progress: 71.0 %\n",
      "progress: 72.0 %\n",
      "progress: 73.0 %\n",
      "progress: 74.0 %\n",
      "progress: 75.0 %\n",
      "progress: 76.0 %\n",
      "progress: 77.0 %\n",
      "progress: 78.0 %\n",
      "progress: 79.0 %\n",
      "progress: 80.0 %\n",
      "progress: 81.0 %\n",
      "progress: 82.0 %\n",
      "progress: 83.0 %\n",
      "progress: 84.0 %\n",
      "progress: 85.0 %\n",
      "progress: 86.0 %\n",
      "progress: 87.0 %\n",
      "progress: 88.0 %\n",
      "progress: 89.0 %\n",
      "progress: 90.0 %\n",
      "progress: 91.0 %\n",
      "progress: 92.0 %\n",
      "progress: 93.0 %\n",
      "progress: 94.0 %\n",
      "progress: 95.0 %\n",
      "progress: 96.0 %\n",
      "progress: 97.0 %\n",
      "progress: 98.0 %\n",
      "progress: 99.0 %\n",
      "smallest k that gives best Leave-one-out results:\n",
      "53\n",
      "\n",
      "wich have lead to the top performance:\n",
      "0.4745625\n",
      "\n",
      "index of features retained:\n",
      "[11, 14, 18, 45, 46, 66, 67, 70, 71, 74, 82, 106, 110, 115, 119, 120, 122, 136, 139, 143, 158, 161, 165, 169, 173, 192, 193, 201, 213, 214, 217, 218, 228, 236, 240, 244, 248, 256, 260, 262, 263, 272, 276, 284, 287, 288, 291, 292, 304, 312, 320, 340, 354]\n"
     ]
    },
    {
     "name": "stderr",
     "output_type": "stream",
     "text": [
      "/anaconda/lib/python3.6/site-packages/sklearn/utils/__init__.py:54: FutureWarning: Conversion of the second argument of issubdtype from `int` to `np.signedinteger` is deprecated. In future, it will be treated as `np.int64 == np.dtype(int).type`.\n",
      "  if np.issubdtype(mask.dtype, np.int):\n"
     ]
    }
   ],
   "source": [
    "tot_perf = []\n",
    "end_feat = 100\n",
    "fraction_train_test = 0.2\n",
    "num_experiments = 1000\n",
    "\n",
    "\n",
    "for k in range(1,end_feat):\n",
    "    print('progress: ' + str(k/end_feat*100) + ' %')\n",
    "    \n",
    "    \n",
    "    scaler2= StandardScaler()\n",
    "    feat_std = scaler2.fit_transform(feature_dataset_full)\n",
    "    \n",
    "    feature_dataset_reduced = get_k_feat_tree(k, feature_dataset_full)\n",
    "    \n",
    "    \n",
    "    svc = svm.SVC(C=1, cache_size=200, class_weight=None, coef0=0.0,\n",
    "            decision_function_shape='ovr', degree=3, gamma='auto', kernel='linear',\n",
    "            max_iter=-1, probability=False, random_state=None, shrinking=True,\n",
    "            tol=0.001, verbose=False)\n",
    "    \n",
    "    #perf_temp = leave_two_out_sci(feat_std, labels, svc)\n",
    "    perf_temp = classification_SVM_experiments_std(feature_dataset_reduced, labels, svc, fraction_train_test, num_experiments)\n",
    "    tot_perf.append(perf_temp)\n",
    "    #print(perf_temp)\n",
    "\n",
    "best_k = np.argmax(tot_perf)+1\n",
    "print(\"smallest k that gives best Leave-one-out results:\")\n",
    "print(best_k)\n",
    "print()\n",
    "print(\"wich have lead to the top performance:\")\n",
    "print(np.max(tot_perf))\n",
    "\n",
    "\n",
    "#What are those features?\n",
    "reducer = SelectKBest(f_classif, best_k)\n",
    "feature_dataset_reduced = reducer.fit_transform(feature_dataset_full, labels)\n",
    "boolean_vec = reducer.get_support()\n",
    "idx =[]\n",
    "for i in range(len(boolean_vec)): \n",
    "    if boolean_vec[i] == True: idx.append(i)\n",
    "print()\n",
    "print(\"index of features retained:\")\n",
    "print(idx)"
   ]
  },
  {
   "cell_type": "code",
   "execution_count": 70,
   "metadata": {
    "collapsed": false
   },
   "outputs": [
    {
     "name": "stdout",
     "output_type": "stream",
     "text": [
      "Evaluation progress: 0 %\n",
      "Evaluation progress: 4 %\n",
      "Evaluation progress: 8 %\n",
      "Evaluation progress: 12 %\n",
      "Evaluation progress: 16 %\n",
      "Evaluation progress: 20 %\n",
      "Evaluation progress: 25 %\n",
      "Evaluation progress: 29 %\n",
      "Evaluation progress: 33 %\n",
      "Evaluation progress: 37 %\n",
      "Evaluation progress: 41 %\n",
      "Evaluation progress: 45 %\n",
      "Evaluation progress: 50 %\n",
      "Evaluation progress: 54 %\n",
      "Evaluation progress: 58 %\n",
      "Evaluation progress: 62 %\n",
      "Evaluation progress: 66 %\n",
      "Evaluation progress: 70 %\n",
      "Evaluation progress: 74 %\n",
      "Evaluation progress: 79 %\n",
      "Evaluation progress: 83 %\n",
      "Evaluation progress: 87 %\n",
      "Evaluation progress: 91 %\n",
      "Evaluation progress: 95 %\n",
      "Evaluation progress: 100 %\n"
     ]
    },
    {
     "data": {
      "image/png": "[encoded data removed]",
      "text/plain": [
       "<matplotlib.figure.Figure at 0x117e04320>"
      ]
     },
     "metadata": {},
     "output_type": "display_data"
    }
   ],
   "source": [
    "feature_dataset_reduced = get_k_feat_tree(k, feature_dataset_full)\n",
    "X = feature_dataset_reduced\n",
    "Y = labels\n",
    "num_experiment = 50\n",
    "\n",
    "\n",
    "svc = svm.SVC(C=1, cache_size=200, class_weight=None, coef0=0.0,\n",
    "            decision_function_shape='ovr', degree=3, gamma='auto', kernel='linear',\n",
    "            max_iter=-1, probability=False, random_state=None, shrinking=True,\n",
    "            tol=0.001, verbose=False)\n",
    "\n",
    "performance_assesment_fraction_std(X, Y, 100, svc)\n"
   ]
  },
  {
   "cell_type": "code",
   "execution_count": null,
   "metadata": {
    "collapsed": true
   },
   "outputs": [],
   "source": []
  }
 ],
 "metadata": {
  "kernelspec": {
   "display_name": "Python 3",
   "language": "python",
   "name": "python3"
  },
  "language_info": {
   "codemirror_mode": {
    "name": "ipython",
    "version": 3
   },
   "file_extension": ".py",
   "mimetype": "text/x-python",
   "name": "python",
   "nbconvert_exporter": "python",
   "pygments_lexer": "ipython3",
   "version": "3.6.0"
  }
 },
 "nbformat": 4,
 "nbformat_minor": 2
}
