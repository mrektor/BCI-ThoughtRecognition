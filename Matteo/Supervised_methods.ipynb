{
 "cells": [
  {
   "cell_type": "code",
   "execution_count": 114,
   "metadata": {},
   "outputs": [],
   "source": [
    "import scipy.io as sio\n",
    "import matplotlib.pyplot as plt\n",
    "import numpy as np\n",
    "from sklearn import linear_model, datasets\n",
    "from helpers import *"
   ]
  },
  {
   "cell_type": "code",
   "execution_count": 115,
   "metadata": {
    "collapsed": true
   },
   "outputs": [],
   "source": [
    "timestep=0.128040973111396;\n",
    "fc=1/timestep;"
   ]
  },
  {
   "cell_type": "code",
   "execution_count": 116,
   "metadata": {
    "collapsed": true
   },
   "outputs": [],
   "source": [
    "yes_contents = sio.loadmat('NIRS_yes_signal.mat')\n",
    "no_contents = sio.loadmat('NIRS_no_signal.mat')"
   ]
  },
  {
   "cell_type": "code",
   "execution_count": 117,
   "metadata": {
    "collapsed": true
   },
   "outputs": [],
   "source": [
    "def feature_extraction(signal,feature_dictionary):\n",
    "    feature=[]\n",
    "    if(feature_dictionary[\"fft_max_frequencies\"]==1):\n",
    "        f=np.linspace(0, fc, num=signal.size)\n",
    "        spectrum= np.abs(np.fft.fft(signal));\n",
    "        fft_max_frequencies=f[np.argsort(spectrum)[-3:-1]]\n",
    "        feature=np.concatenate((feature,fft_max_frequencies), axis=0);\n",
    "\n",
    "    if(feature_dictionary[\"mean\"]==1):\n",
    "        mean=np.mean(signal);\n",
    "        feature=np.concatenate((feature,[mean]), axis=0)\n",
    "        \n",
    "    if(feature_dictionary[\"variance\"]==1):\n",
    "        variance=np.var(signal)\n",
    "        feature=np.concatenate((feature,[mean]), axis=0)\n",
    "        \n",
    "    return np.asarray(feature)\n",
    "#.reshape([feature.size,1])\n",
    "        \n",
    "    "
   ]
  },
  {
   "cell_type": "code",
   "execution_count": 118,
   "metadata": {},
   "outputs": [],
   "source": [
    "def get_train_matrix(channels, feature_dictionary,label):\n",
    "    list_train=[]\n",
    "    list_labels=[]\n",
    "    dim=channels.shape\n",
    "    for i in range (0,dim[1]):\n",
    "        single_measurement=channels[0,i]\n",
    "        dim1=single_measurement.shape\n",
    "        for j  in range (0,dim1[1]):\n",
    "            features=feature_extraction(single_measurement[:,j],feature_dictionary)\n",
    "            list_train.append([features]);\n",
    "        \n",
    "        labels=get_labels(dim1[1],label);\n",
    "        list_labels.append([labels]);\n",
    "        \n",
    "            \n",
    "            \n",
    "    train_TX=np.concatenate(list_train)\n",
    "    labels=np.concatenate(list_labels,axis=1)\n",
    "    \n",
    "    return train_TX,labels.T.reshape(labels.size)\n",
    "\n",
    "def get_labels(number, string):\n",
    "    if(string==\"No\"):\n",
    "        return np.zeros(number)    \n",
    "    if(string==\"Yes\"):\n",
    "        return np.ones(number)\n",
    "    "
   ]
  },
  {
   "cell_type": "code",
   "execution_count": 119,
   "metadata": {},
   "outputs": [],
   "source": [
    "#buildig the train matrix and labels\n",
    "\n",
    "channels_no=no_contents[\"no_signal\"]\n",
    "channels_yes=yes_contents[\"yes_signal\"]\n",
    "\n",
    "# select which feature select\n",
    "feature_dictionary = {\n",
    "        \"fft_max_frequencies\" : 1, \n",
    "         \"mean\" : 1, \n",
    "         \"autocorrelation\" : 1,\n",
    "         \"variance\" : 1\n",
    "         }\n",
    "\n",
    "\n",
    "train_TX_yes,labels_yes=get_train_matrix(channels_yes, feature_dictionary,\"Yes\");\n",
    "train_TX_no,labels_no=get_train_matrix(channels_no, feature_dictionary,\"No\");\n",
    "\n",
    "train_TX=np.concatenate((train_TX_yes,train_TX_no),axis=0)\n",
    "labels=np.concatenate((labels_yes,labels_no),axis=0)"
   ]
  },
  {
   "cell_type": "code",
   "execution_count": 120,
   "metadata": {},
   "outputs": [
    {
     "data": {
      "text/plain": [
       "LogisticRegression(C=100000.0, class_weight=None, dual=False,\n",
       "          fit_intercept=True, intercept_scaling=1, max_iter=100,\n",
       "          multi_class='ovr', n_jobs=1, penalty='l2', random_state=None,\n",
       "          solver='liblinear', tol=0.0001, verbose=0, warm_start=False)"
      ]
     },
     "execution_count": 120,
     "metadata": {},
     "output_type": "execute_result"
    }
   ],
   "source": [
    "#logistic regression\n",
    "\n",
    "\n",
    "logreg = linear_model.LogisticRegression(C=1e5)\n",
    "logreg.fit(train_TX, labels)"
   ]
  },
  {
   "cell_type": "code",
   "execution_count": null,
   "metadata": {
    "collapsed": true
   },
   "outputs": [],
   "source": []
  }
 ],
 "metadata": {
  "kernelspec": {
   "display_name": "Python 3",
   "language": "python",
   "name": "python3"
  },
  "language_info": {
   "codemirror_mode": {
    "name": "ipython",
    "version": 3
   },
   "file_extension": ".py",
   "mimetype": "text/x-python",
   "name": "python",
   "nbconvert_exporter": "python",
   "pygments_lexer": "ipython3",
   "version": "3.5.4"
  }
 },
 "nbformat": 4,
 "nbformat_minor": 2
}
