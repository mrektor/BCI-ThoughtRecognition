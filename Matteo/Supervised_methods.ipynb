{
 "cells": [
  {
   "cell_type": "code",
   "execution_count": 1,
   "metadata": {
    "collapsed": true
   },
   "outputs": [],
   "source": [
    "import scipy.io as sio\n",
    "import matplotlib.pyplot as plt\n",
    "import numpy as np\n",
    "from sklearn import linear_model, neighbors,datasets\n",
    "from helpers import *\n",
    "from sklearn import svm\n",
    "from cross_validations_lib import *"
   ]
  },
  {
   "cell_type": "code",
   "execution_count": 2,
   "metadata": {
    "collapsed": true
   },
   "outputs": [],
   "source": [
    "timestep=0.128040973111396;\n",
    "fc=1/timestep;"
   ]
  },
  {
   "cell_type": "code",
   "execution_count": 3,
   "metadata": {
    "collapsed": true
   },
   "outputs": [],
   "source": [
    "yes_dxy_contents = sio.loadmat('NIRSdxy_yes_signal.mat')\n",
    "no_dxy_contents = sio.loadmat('NIRSdxy_no_signal.mat')\n",
    "\n",
    "yes_oxy_contents = sio.loadmat('NIRSoxy_yes_signal.mat')\n",
    "no_oxy_contents = sio.loadmat('NIRSoxy_no_signal.mat')\n"
   ]
  },
  {
   "cell_type": "code",
   "execution_count": 6,
   "metadata": {
    "collapsed": true
   },
   "outputs": [],
   "source": [
    "def feature_extraction(signal,feature_dictionary):\n",
    "    feature=[]\n",
    "    if(feature_dictionary[\"fft_max_frequencies\"]==1):\n",
    "        f=np.linspace(0, fc, num=signal.size)\n",
    "        spectrum= np.abs(np.fft.fft(signal));\n",
    "        fft_max_frequencies=f[np.argsort(spectrum)[-3:]]\n",
    "        feature=np.concatenate((feature,fft_max_frequencies), axis=0);\n",
    "    \n",
    "\n",
    "    if(feature_dictionary[\"mean\"]==1):\n",
    "        mean=np.mean(signal);\n",
    "        feature=np.concatenate((feature,[mean]), axis=0)\n",
    "    \n",
    "    if(feature_dictionary[\"variance\"]==1):\n",
    "        variance=np.var(signal)\n",
    "        feature=np.concatenate((feature,[variance]), axis=0)\n",
    "    #crest factor \n",
    "    if(feature_dictionary[\"crest_factor\"]==1):\n",
    "        crest_factor=np.sum(np.power(signal,2))/signal.size\n",
    "        feature=np.concatenate((feature,[crest_factor]), axis=0)\n",
    "    \n",
    "    return np.asarray(feature)\n",
    "#.reshape([feature.size,1])\n",
    "        \n",
    "    "
   ]
  },
  {
   "cell_type": "code",
   "execution_count": 7,
   "metadata": {
    "collapsed": true
   },
   "outputs": [],
   "source": [
    "def get_train_matrix(channels, feature_dictionary,label):\n",
    "    list_train=[]\n",
    "    list_labels=[]\n",
    "    dim=channels.shape\n",
    "    for i in range (0,dim[1]):\n",
    "        single_measurement=channels[0,i]\n",
    "        dim1=single_measurement.shape\n",
    "        for j  in range (0,dim1[1]):\n",
    "            features=feature_extraction(single_measurement[:,j],feature_dictionary)\n",
    "            list_train.append([features]);\n",
    "        labels=get_labels(dim1[1],label);\n",
    "        list_labels.append([labels]);\n",
    "        \n",
    "            \n",
    "            \n",
    "    train_TX=np.concatenate(list_train)\n",
    "    labels=np.concatenate(list_labels,axis=1)\n",
    "    \n",
    "    return train_TX,labels.T.reshape(labels.size)\n",
    "\n",
    "def get_labels(number, string):\n",
    "    if(string==\"No\"):\n",
    "        return np.zeros(number)    \n",
    "    if(string==\"Yes\"):\n",
    "        return np.ones(number)\n",
    "    "
   ]
  },
  {
   "cell_type": "markdown",
   "metadata": {},
   "source": [
    "# DEOXY SIGNALS"
   ]
  },
  {
   "cell_type": "code",
   "execution_count": 8,
   "metadata": {},
   "outputs": [
    {
     "name": "stdout",
     "output_type": "stream",
     "text": [
      "(900, 6)\n"
     ]
    }
   ],
   "source": [
    "#buildig the train matrix and labels\n",
    "\n",
    "channels_no=no_dxy_contents[\"no_signal\"]\n",
    "channels_yes=yes_dxy_contents[\"yes_signal\"]\n",
    "\n",
    "# select which feature select\n",
    "feature_dictionary = {\n",
    "        \"fft_max_frequencies\" : 1, \n",
    "         \"mean\" : 1, \n",
    "         \"variance\" : 1,\n",
    "         \"crest_factor\" : 1\n",
    "         }\n",
    "\n",
    "\n",
    "\n",
    "train_TX_yes_deoxy,labels_yes=get_train_matrix(channels_yes, feature_dictionary,\"Yes\");\n",
    "train_TX_no_deoxy,labels_no=get_train_matrix(channels_no, feature_dictionary,\"No\");\n",
    "\n",
    "\n",
    "train_TX=np.concatenate((train_TX_yes_deoxy,train_TX_no_deoxy,),axis=0)\n",
    "\n",
    "print(train_TX.shape)\n",
    "labels=np.concatenate((labels_yes,labels_no),axis=0)"
   ]
  },
  {
   "cell_type": "markdown",
   "metadata": {},
   "source": [
    "# Logistic Regression"
   ]
  },
  {
   "cell_type": "code",
   "execution_count": 7,
   "metadata": {},
   "outputs": [
    {
     "name": "stdout",
     "output_type": "stream",
     "text": [
      "(900, 6)\n",
      "--- Fold 0 ---\n",
      "++ Degree 2 ++\n",
      ">> Lambda 1e-08 <<\n",
      "0.464444444444\n",
      ">> Lambda 1.58489319246e-07 <<\n",
      "0.464444444444\n",
      ">> Lambda 2.51188643151e-06 <<\n",
      "0.464444444444\n",
      ">> Lambda 3.98107170553e-05 <<\n",
      "0.464444444444\n",
      ">> Lambda 0.00063095734448 <<\n",
      "0.464444444444\n",
      ">> Lambda 0.01 <<\n",
      "0.471111111111\n",
      "++ Degree 3 ++\n",
      ">> Lambda 1e-08 <<\n",
      "0.471111111111\n",
      ">> Lambda 1.58489319246e-07 <<\n",
      "0.471111111111\n",
      ">> Lambda 2.51188643151e-06 <<\n",
      "0.471111111111\n",
      ">> Lambda 3.98107170553e-05 <<\n",
      "0.471111111111\n",
      ">> Lambda 0.00063095734448 <<\n",
      "0.471111111111\n",
      ">> Lambda 0.01 <<\n",
      "0.471111111111\n",
      "--- Fold 1 ---\n",
      "++ Degree 2 ++\n",
      ">> Lambda 1e-08 <<\n",
      "0.466666666667\n",
      ">> Lambda 1.58489319246e-07 <<\n",
      "0.466666666667\n",
      ">> Lambda 2.51188643151e-06 <<\n",
      "0.466666666667\n",
      ">> Lambda 3.98107170553e-05 <<\n",
      "0.466666666667\n",
      ">> Lambda 0.00063095734448 <<\n",
      "0.466666666667\n",
      ">> Lambda 0.01 <<\n",
      "0.466666666667\n",
      "++ Degree 3 ++\n",
      ">> Lambda 1e-08 <<\n",
      "0.466666666667\n",
      ">> Lambda 1.58489319246e-07 <<\n",
      "0.466666666667\n",
      ">> Lambda 2.51188643151e-06 <<\n",
      "0.466666666667\n",
      ">> Lambda 3.98107170553e-05 <<\n",
      "0.466666666667\n",
      ">> Lambda 0.00063095734448 <<\n",
      "0.466666666667\n",
      ">> Lambda 0.01 <<\n",
      "0.466666666667\n",
      "Best accuracy test = 0.468888888889 with degree = 2 lambda= 0.01\n",
      "Corresponding accuracy train = 0.547777777778\n"
     ]
    }
   ],
   "source": [
    "# cross validation\n",
    "\n",
    "degrees = range(2,4)\n",
    "lambdas = np.logspace(-8,-2,6)\n",
    "k_fold=2\n",
    "seed = 2\n",
    "max_iters = 5000\n",
    "print(train_TX.shape)\n",
    "\n",
    "best_deg,best_lambda, best_accuracy_test, corresponding_accuracy_train = \\\n",
    "        cross_validation_logistic_regularized(labels,train_TX, degrees, lambdas, k_fold, seed, max_iters)\n"
   ]
  },
  {
   "cell_type": "code",
   "execution_count": 8,
   "metadata": {},
   "outputs": [
    {
     "name": "stdout",
     "output_type": "stream",
     "text": [
      "0.4811111111111111\n"
     ]
    }
   ],
   "source": [
    "#logistic regression\n",
    "train_TX = add_powers(train_TX,best_deg )\n",
    "train_TX= add_ones(train_TX)\n",
    "logreg=linear_model.LogisticRegression(C=1/best_lambda, class_weight=\"balanced\",max_iter=max_iters)\n",
    "logreg.fit(train_TX,labels)\n",
    "predicted_labels= logreg.predict(train_TX)\n",
    "logreg_accuracy=get_accuracy(predicted_labels, labels)\n",
    "print(logreg_accuracy)\n",
    "\n",
    "\n",
    "\n"
   ]
  },
  {
   "cell_type": "markdown",
   "metadata": {},
   "source": [
    "# KNN"
   ]
  },
  {
   "cell_type": "code",
   "execution_count": null,
   "metadata": {
    "collapsed": true
   },
   "outputs": [],
   "source": [
    "#KNN \n",
    "clf = neighbors.KNeighborsClassifier(200)\n",
    "clf.fit(train_TX, labels)\n",
    "predicted_labels= clf.predict(train_TX)\n",
    "KNN_accuracy=get_accuracy(predicted_labels, labels)\n",
    "print(KNN_accuracy)\n",
    "\n"
   ]
  },
  {
   "cell_type": "markdown",
   "metadata": {
    "collapsed": true
   },
   "source": [
    "# SVM"
   ]
  },
  {
   "cell_type": "code",
   "execution_count": null,
   "metadata": {},
   "outputs": [
    {
     "name": "stdout",
     "output_type": "stream",
     "text": [
      "(900, 12)\n",
      "--- Fold 0 ---\n",
      "++ Degree 2 ++\n",
      ">> Penalty parameter C 0.1 <<\n",
      ">> Type of Kernel  linear <<\n",
      "0.466666666667 0.523333333333\n",
      ">> Type of Kernel  rbf <<\n",
      "0.45 0.53\n",
      ">> Type of Kernel  sigmoid <<\n",
      "0.526666666667 0.475\n",
      ">> Penalty parameter C 4.0 <<\n",
      ">> Type of Kernel  linear <<\n",
      "0.46 0.535\n",
      ">> Type of Kernel  rbf <<\n",
      "0.49 0.546666666667\n",
      ">> Type of Kernel  sigmoid <<\n",
      "0.526666666667 0.461666666667\n",
      "++ Degree 3 ++\n",
      ">> Penalty parameter C 0.1 <<\n",
      ">> Type of Kernel  linear <<\n"
     ]
    }
   ],
   "source": [
    "degrees = range(2,5)\n",
    "C_parameters= np.linspace(0.1,4,2)\n",
    "k_fold=3 # number of k sub-folders to divide the set\n",
    "seed = 2\n",
    "max_iters = 10000\n",
    "kernel_types=['linear', 'rbf', 'sigmoid']\n",
    "print(train_TX.shape)\n",
    "\n",
    "best_deg,best_C, best_kernel_type ,best_accuracy_test, corresponding_accuracy_train = \\\n",
    "        cross_validation_SVM(labels,train_TX, degrees, C_parameters, kernel_types, k_fold, seed, max_iters)\n",
    "\n"
   ]
  },
  {
   "cell_type": "code",
   "execution_count": 12,
   "metadata": {},
   "outputs": [
    {
     "name": "stdout",
     "output_type": "stream",
     "text": [
      "0.48333333333333334\n"
     ]
    }
   ],
   "source": [
    "from sklearn import svm\n",
    "\n",
    "train_TX = add_powers(train_TX,best_deg )\n",
    "\n",
    "\n",
    "clf = svm.SVC(C=best_C, cache_size=200, class_weight=None, coef0=0.0,\n",
    "    decision_function_shape='ovr', degree=3, gamma='auto', kernel=best_kernel_type,\n",
    "    max_iter=-1, probability=False, random_state=None, shrinking=True,\n",
    "    tol=0.001, verbose=False)\n",
    "clf.fit(train_TX, labels)  \n",
    "predicted_labels= clf.predict(train_TX)\n",
    "SVM_accuracy=get_accuracy(predicted_labels, labels)\n",
    "print(SVM_accuracy)"
   ]
  },
  {
   "cell_type": "code",
   "execution_count": null,
   "metadata": {
    "collapsed": true
   },
   "outputs": [],
   "source": []
  }
 ],
 "metadata": {
  "kernelspec": {
   "display_name": "Python 3",
   "language": "python",
   "name": "python3"
  },
  "language_info": {
   "codemirror_mode": {
    "name": "ipython",
    "version": 3
   },
   "file_extension": ".py",
   "mimetype": "text/x-python",
   "name": "python",
   "nbconvert_exporter": "python",
   "pygments_lexer": "ipython3",
   "version": "3.5.4"
  }
 },
 "nbformat": 4,
 "nbformat_minor": 2
}
